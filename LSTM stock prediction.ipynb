{
 "cells": [
  {
   "cell_type": "code",
   "execution_count": 1,
   "id": "5b3f8404",
   "metadata": {},
   "outputs": [],
   "source": [
    "import pandas as pd\n",
    "import numpy as np\n",
    "import matplotlib.pyplot as plt\n",
    "import matplotlib\n",
    "from sklearn.preprocessing import MinMaxScaler\n",
    "from keras.layers import LSTM,Dense,Dropout\n",
    "from sklearn.model_selection import TimeSeriesSplit\n",
    "from sklearn.metrics import mean_squared_error, r2_score\n",
    "import matplotlib.dates as mdates\n",
    "from sklearn import linear_model"
   ]
  },
  {
   "cell_type": "code",
   "execution_count": 2,
   "id": "c44c7f28",
   "metadata": {},
   "outputs": [
    {
     "data": {
      "text/html": [
       "<div>\n",
       "<style scoped>\n",
       "    .dataframe tbody tr th:only-of-type {\n",
       "        vertical-align: middle;\n",
       "    }\n",
       "\n",
       "    .dataframe tbody tr th {\n",
       "        vertical-align: top;\n",
       "    }\n",
       "\n",
       "    .dataframe thead th {\n",
       "        text-align: right;\n",
       "    }\n",
       "</style>\n",
       "<table border=\"1\" class=\"dataframe\">\n",
       "  <thead>\n",
       "    <tr style=\"text-align: right;\">\n",
       "      <th></th>\n",
       "      <th>open</th>\n",
       "      <th>high</th>\n",
       "      <th>low</th>\n",
       "      <th>close</th>\n",
       "      <th>volume</th>\n",
       "      <th>Name</th>\n",
       "    </tr>\n",
       "    <tr>\n",
       "      <th>date</th>\n",
       "      <th></th>\n",
       "      <th></th>\n",
       "      <th></th>\n",
       "      <th></th>\n",
       "      <th></th>\n",
       "      <th></th>\n",
       "    </tr>\n",
       "  </thead>\n",
       "  <tbody>\n",
       "    <tr>\n",
       "      <th>2013-02-08</th>\n",
       "      <td>390.4551</td>\n",
       "      <td>393.7283</td>\n",
       "      <td>390.1698</td>\n",
       "      <td>393.0777</td>\n",
       "      <td>6031199</td>\n",
       "      <td>GOOGL</td>\n",
       "    </tr>\n",
       "    <tr>\n",
       "      <th>2013-02-11</th>\n",
       "      <td>389.5892</td>\n",
       "      <td>391.8915</td>\n",
       "      <td>387.2619</td>\n",
       "      <td>391.6012</td>\n",
       "      <td>4330781</td>\n",
       "      <td>GOOGL</td>\n",
       "    </tr>\n",
       "    <tr>\n",
       "      <th>2013-02-12</th>\n",
       "      <td>391.2659</td>\n",
       "      <td>394.3440</td>\n",
       "      <td>390.0747</td>\n",
       "      <td>390.7403</td>\n",
       "      <td>3714176</td>\n",
       "      <td>GOOGL</td>\n",
       "    </tr>\n",
       "    <tr>\n",
       "      <th>2013-02-13</th>\n",
       "      <td>390.4551</td>\n",
       "      <td>393.0677</td>\n",
       "      <td>390.3750</td>\n",
       "      <td>391.8214</td>\n",
       "      <td>2393946</td>\n",
       "      <td>GOOGL</td>\n",
       "    </tr>\n",
       "    <tr>\n",
       "      <th>2013-02-14</th>\n",
       "      <td>390.2549</td>\n",
       "      <td>394.7644</td>\n",
       "      <td>389.2739</td>\n",
       "      <td>394.3039</td>\n",
       "      <td>3466971</td>\n",
       "      <td>GOOGL</td>\n",
       "    </tr>\n",
       "  </tbody>\n",
       "</table>\n",
       "</div>"
      ],
      "text/plain": [
       "                open      high       low     close   volume   Name\n",
       "date                                                              \n",
       "2013-02-08  390.4551  393.7283  390.1698  393.0777  6031199  GOOGL\n",
       "2013-02-11  389.5892  391.8915  387.2619  391.6012  4330781  GOOGL\n",
       "2013-02-12  391.2659  394.3440  390.0747  390.7403  3714176  GOOGL\n",
       "2013-02-13  390.4551  393.0677  390.3750  391.8214  2393946  GOOGL\n",
       "2013-02-14  390.2549  394.7644  389.2739  394.3039  3466971  GOOGL"
      ]
     },
     "execution_count": 2,
     "metadata": {},
     "output_type": "execute_result"
    }
   ],
   "source": [
    "df_final = pd.read_csv(\"GOOGL_data.csv\",na_values=['null'],index_col='date',parse_dates=True,infer_datetime_format=True)\n",
    "df_final.head()"
   ]
  },
  {
   "cell_type": "code",
   "execution_count": 3,
   "id": "6b7b0b30",
   "metadata": {},
   "outputs": [
    {
     "data": {
      "text/html": [
       "<div>\n",
       "<style scoped>\n",
       "    .dataframe tbody tr th:only-of-type {\n",
       "        vertical-align: middle;\n",
       "    }\n",
       "\n",
       "    .dataframe tbody tr th {\n",
       "        vertical-align: top;\n",
       "    }\n",
       "\n",
       "    .dataframe thead th {\n",
       "        text-align: right;\n",
       "    }\n",
       "</style>\n",
       "<table border=\"1\" class=\"dataframe\">\n",
       "  <thead>\n",
       "    <tr style=\"text-align: right;\">\n",
       "      <th></th>\n",
       "      <th>open</th>\n",
       "      <th>high</th>\n",
       "      <th>low</th>\n",
       "      <th>close</th>\n",
       "      <th>volume</th>\n",
       "    </tr>\n",
       "    <tr>\n",
       "      <th>date</th>\n",
       "      <th></th>\n",
       "      <th></th>\n",
       "      <th></th>\n",
       "      <th></th>\n",
       "      <th></th>\n",
       "    </tr>\n",
       "  </thead>\n",
       "  <tbody>\n",
       "    <tr>\n",
       "      <th>2013-02-08</th>\n",
       "      <td>390.4551</td>\n",
       "      <td>393.7283</td>\n",
       "      <td>390.1698</td>\n",
       "      <td>393.0777</td>\n",
       "      <td>6031199</td>\n",
       "    </tr>\n",
       "    <tr>\n",
       "      <th>2013-02-11</th>\n",
       "      <td>389.5892</td>\n",
       "      <td>391.8915</td>\n",
       "      <td>387.2619</td>\n",
       "      <td>391.6012</td>\n",
       "      <td>4330781</td>\n",
       "    </tr>\n",
       "    <tr>\n",
       "      <th>2013-02-12</th>\n",
       "      <td>391.2659</td>\n",
       "      <td>394.3440</td>\n",
       "      <td>390.0747</td>\n",
       "      <td>390.7403</td>\n",
       "      <td>3714176</td>\n",
       "    </tr>\n",
       "    <tr>\n",
       "      <th>2013-02-13</th>\n",
       "      <td>390.4551</td>\n",
       "      <td>393.0677</td>\n",
       "      <td>390.3750</td>\n",
       "      <td>391.8214</td>\n",
       "      <td>2393946</td>\n",
       "    </tr>\n",
       "    <tr>\n",
       "      <th>2013-02-14</th>\n",
       "      <td>390.2549</td>\n",
       "      <td>394.7644</td>\n",
       "      <td>389.2739</td>\n",
       "      <td>394.3039</td>\n",
       "      <td>3466971</td>\n",
       "    </tr>\n",
       "  </tbody>\n",
       "</table>\n",
       "</div>"
      ],
      "text/plain": [
       "                open      high       low     close   volume\n",
       "date                                                       \n",
       "2013-02-08  390.4551  393.7283  390.1698  393.0777  6031199\n",
       "2013-02-11  389.5892  391.8915  387.2619  391.6012  4330781\n",
       "2013-02-12  391.2659  394.3440  390.0747  390.7403  3714176\n",
       "2013-02-13  390.4551  393.0677  390.3750  391.8214  2393946\n",
       "2013-02-14  390.2549  394.7644  389.2739  394.3039  3466971"
      ]
     },
     "execution_count": 3,
     "metadata": {},
     "output_type": "execute_result"
    }
   ],
   "source": [
    "df_final.drop(df_final.columns[[5]], axis=1, inplace=True)\n",
    "df_final.head()"
   ]
  },
  {
   "cell_type": "code",
   "execution_count": 4,
   "id": "e12d9298",
   "metadata": {},
   "outputs": [
    {
     "data": {
      "text/plain": [
       "(1259, 5)"
      ]
     },
     "execution_count": 4,
     "metadata": {},
     "output_type": "execute_result"
    }
   ],
   "source": [
    "df_final.shape"
   ]
  },
  {
   "cell_type": "markdown",
   "id": "7cafe103",
   "metadata": {},
   "source": [
    "# Plotting the close column"
   ]
  },
  {
   "cell_type": "code",
   "execution_count": 5,
   "id": "fe93a9f5",
   "metadata": {},
   "outputs": [
    {
     "data": {
      "text/plain": [
       "<AxesSubplot:xlabel='date'>"
      ]
     },
     "execution_count": 5,
     "metadata": {},
     "output_type": "execute_result"
    },
    {
     "data": {
      "image/png": "[encoded data removed]",
      "text/plain": [
       "<Figure size 432x288 with 1 Axes>"
      ]
     },
     "metadata": {
      "needs_background": "light"
     },
     "output_type": "display_data"
    }
   ],
   "source": [
    "df_final['close'].plot()"
   ]
  },
  {
   "cell_type": "markdown",
   "id": "f7366b68",
   "metadata": {},
   "source": [
    "# Correlating the features with close"
   ]
  },
  {
   "cell_type": "code",
   "execution_count": 6,
   "id": "800928d8",
   "metadata": {},
   "outputs": [],
   "source": [
    "D = df_final.drop(['close'],axis=1)"
   ]
  },
  {
   "cell_type": "code",
   "execution_count": 7,
   "id": "a1986b06",
   "metadata": {},
   "outputs": [
    {
     "data": {
      "text/plain": [
       "<AxesSubplot:title={'center':'Correlation with Close Feature'}>"
      ]
     },
     "execution_count": 7,
     "metadata": {},
     "output_type": "execute_result"
    },
    {
     "data": {
      "image/png": "[encoded data removed]",
      "text/plain": [
       "<Figure size 1440x720 with 1 Axes>"
      ]
     },
     "metadata": {
      "needs_background": "light"
     },
     "output_type": "display_data"
    }
   ],
   "source": [
    "D.corrwith(df_final['close']).plot.bar(\n",
    "        figsize = (20, 10), title = \"Correlation with Close Feature\", fontsize = 20,\n",
    "        rot = 90, grid = True)"
   ]
  },
  {
   "cell_type": "code",
   "execution_count": 8,
   "id": "ba5c80b2",
   "metadata": {},
   "outputs": [
    {
     "data": {
      "text/html": [
       "<div>\n",
       "<style scoped>\n",
       "    .dataframe tbody tr th:only-of-type {\n",
       "        vertical-align: middle;\n",
       "    }\n",
       "\n",
       "    .dataframe tbody tr th {\n",
       "        vertical-align: top;\n",
       "    }\n",
       "\n",
       "    .dataframe thead th {\n",
       "        text-align: right;\n",
       "    }\n",
       "</style>\n",
       "<table border=\"1\" class=\"dataframe\">\n",
       "  <thead>\n",
       "    <tr style=\"text-align: right;\">\n",
       "      <th></th>\n",
       "      <th>open</th>\n",
       "      <th>high</th>\n",
       "      <th>low</th>\n",
       "      <th>close</th>\n",
       "      <th>volume</th>\n",
       "    </tr>\n",
       "    <tr>\n",
       "      <th>date</th>\n",
       "      <th></th>\n",
       "      <th></th>\n",
       "      <th></th>\n",
       "      <th></th>\n",
       "      <th></th>\n",
       "    </tr>\n",
       "  </thead>\n",
       "  <tbody>\n",
       "    <tr>\n",
       "      <th>2013-02-08</th>\n",
       "      <td>390.4551</td>\n",
       "      <td>393.7283</td>\n",
       "      <td>390.1698</td>\n",
       "      <td>393.0777</td>\n",
       "      <td>6031199</td>\n",
       "    </tr>\n",
       "    <tr>\n",
       "      <th>2013-02-11</th>\n",
       "      <td>389.5892</td>\n",
       "      <td>391.8915</td>\n",
       "      <td>387.2619</td>\n",
       "      <td>391.6012</td>\n",
       "      <td>4330781</td>\n",
       "    </tr>\n",
       "    <tr>\n",
       "      <th>2013-02-12</th>\n",
       "      <td>391.2659</td>\n",
       "      <td>394.3440</td>\n",
       "      <td>390.0747</td>\n",
       "      <td>390.7403</td>\n",
       "      <td>3714176</td>\n",
       "    </tr>\n",
       "    <tr>\n",
       "      <th>2013-02-13</th>\n",
       "      <td>390.4551</td>\n",
       "      <td>393.0677</td>\n",
       "      <td>390.3750</td>\n",
       "      <td>391.8214</td>\n",
       "      <td>2393946</td>\n",
       "    </tr>\n",
       "    <tr>\n",
       "      <th>2013-02-14</th>\n",
       "      <td>390.2549</td>\n",
       "      <td>394.7644</td>\n",
       "      <td>389.2739</td>\n",
       "      <td>394.3039</td>\n",
       "      <td>3466971</td>\n",
       "    </tr>\n",
       "  </tbody>\n",
       "</table>\n",
       "</div>"
      ],
      "text/plain": [
       "                open      high       low     close   volume\n",
       "date                                                       \n",
       "2013-02-08  390.4551  393.7283  390.1698  393.0777  6031199\n",
       "2013-02-11  389.5892  391.8915  387.2619  391.6012  4330781\n",
       "2013-02-12  391.2659  394.3440  390.0747  390.7403  3714176\n",
       "2013-02-13  390.4551  393.0677  390.3750  391.8214  2393946\n",
       "2013-02-14  390.2549  394.7644  389.2739  394.3039  3466971"
      ]
     },
     "metadata": {},
     "output_type": "display_data"
    }
   ],
   "source": [
    "#We can see that all other features except volume are positively correlated\n",
    "test = df_final\n",
    "# Target column\n",
    "target = pd.DataFrame(test['close'])\n",
    "display(test.head())"
   ]
  },
  {
   "cell_type": "code",
   "execution_count": 9,
   "id": "0ccbc09b",
   "metadata": {},
   "outputs": [],
   "source": [
    "feature_columns = ['open', 'high', 'low', 'volume']"
   ]
  },
  {
   "cell_type": "code",
   "execution_count": 10,
   "id": "11dbfa9b",
   "metadata": {},
   "outputs": [
    {
     "data": {
      "text/html": [
       "<div>\n",
       "<style scoped>\n",
       "    .dataframe tbody tr th:only-of-type {\n",
       "        vertical-align: middle;\n",
       "    }\n",
       "\n",
       "    .dataframe tbody tr th {\n",
       "        vertical-align: top;\n",
       "    }\n",
       "\n",
       "    .dataframe thead th {\n",
       "        text-align: right;\n",
       "    }\n",
       "</style>\n",
       "<table border=\"1\" class=\"dataframe\">\n",
       "  <thead>\n",
       "    <tr style=\"text-align: right;\">\n",
       "      <th></th>\n",
       "      <th>open</th>\n",
       "      <th>high</th>\n",
       "      <th>low</th>\n",
       "      <th>volume</th>\n",
       "    </tr>\n",
       "    <tr>\n",
       "      <th>date</th>\n",
       "      <th></th>\n",
       "      <th></th>\n",
       "      <th></th>\n",
       "      <th></th>\n",
       "    </tr>\n",
       "  </thead>\n",
       "  <tbody>\n",
       "    <tr>\n",
       "      <th>2013-02-08</th>\n",
       "      <td>0.006837</td>\n",
       "      <td>0.004411</td>\n",
       "      <td>0.011405</td>\n",
       "      <td>0.243547</td>\n",
       "    </tr>\n",
       "    <tr>\n",
       "      <th>2013-02-11</th>\n",
       "      <td>0.005759</td>\n",
       "      <td>0.002137</td>\n",
       "      <td>0.007784</td>\n",
       "      <td>0.168388</td>\n",
       "    </tr>\n",
       "    <tr>\n",
       "      <th>2013-02-12</th>\n",
       "      <td>0.007847</td>\n",
       "      <td>0.005173</td>\n",
       "      <td>0.011287</td>\n",
       "      <td>0.141133</td>\n",
       "    </tr>\n",
       "    <tr>\n",
       "      <th>2013-02-13</th>\n",
       "      <td>0.006837</td>\n",
       "      <td>0.003593</td>\n",
       "      <td>0.011661</td>\n",
       "      <td>0.082779</td>\n",
       "    </tr>\n",
       "    <tr>\n",
       "      <th>2013-02-14</th>\n",
       "      <td>0.006588</td>\n",
       "      <td>0.005694</td>\n",
       "      <td>0.010290</td>\n",
       "      <td>0.130207</td>\n",
       "    </tr>\n",
       "  </tbody>\n",
       "</table>\n",
       "</div>"
      ],
      "text/plain": [
       "                open      high       low    volume\n",
       "date                                              \n",
       "2013-02-08  0.006837  0.004411  0.011405  0.243547\n",
       "2013-02-11  0.005759  0.002137  0.007784  0.168388\n",
       "2013-02-12  0.007847  0.005173  0.011287  0.141133\n",
       "2013-02-13  0.006837  0.003593  0.011661  0.082779\n",
       "2013-02-14  0.006588  0.005694  0.010290  0.130207"
      ]
     },
     "execution_count": 10,
     "metadata": {},
     "output_type": "execute_result"
    }
   ],
   "source": [
    "from sklearn.preprocessing import MinMaxScaler\n",
    "scaler = MinMaxScaler()\n",
    "feature_minmax_transform_data = scaler.fit_transform(test[feature_columns])\n",
    "feature_minmax_transform = pd.DataFrame(columns=feature_columns, data=feature_minmax_transform_data, index=test.index)\n",
    "feature_minmax_transform.head()"
   ]
  },
  {
   "cell_type": "code",
   "execution_count": 11,
   "id": "a7c34559",
   "metadata": {},
   "outputs": [
    {
     "name": "stdout",
     "output_type": "stream",
     "text": [
      "Shape of features :  (1259, 4)\n",
      "Shape of target :  (1259, 1)\n"
     ]
    }
   ],
   "source": [
    "print('Shape of features : ', feature_minmax_transform.shape)\n",
    "print('Shape of target : ', target.shape)"
   ]
  },
  {
   "cell_type": "code",
   "execution_count": 12,
   "id": "0b556e67",
   "metadata": {},
   "outputs": [],
   "source": [
    "target = target.shift(-1)\n",
    "validation_y = target[-100:-1]\n",
    "target = target[:-100]"
   ]
  },
  {
   "cell_type": "code",
   "execution_count": 13,
   "id": "743e8119",
   "metadata": {},
   "outputs": [
    {
     "data": {
      "text/html": [
       "<div>\n",
       "<style scoped>\n",
       "    .dataframe tbody tr th:only-of-type {\n",
       "        vertical-align: middle;\n",
       "    }\n",
       "\n",
       "    .dataframe tbody tr th {\n",
       "        vertical-align: top;\n",
       "    }\n",
       "\n",
       "    .dataframe thead th {\n",
       "        text-align: right;\n",
       "    }\n",
       "</style>\n",
       "<table border=\"1\" class=\"dataframe\">\n",
       "  <thead>\n",
       "    <tr style=\"text-align: right;\">\n",
       "      <th></th>\n",
       "      <th>open</th>\n",
       "      <th>high</th>\n",
       "      <th>low</th>\n",
       "      <th>volume</th>\n",
       "    </tr>\n",
       "    <tr>\n",
       "      <th>date</th>\n",
       "      <th></th>\n",
       "      <th></th>\n",
       "      <th></th>\n",
       "      <th></th>\n",
       "    </tr>\n",
       "  </thead>\n",
       "  <tbody>\n",
       "    <tr>\n",
       "      <th>2018-01-31</th>\n",
       "      <td>0.994782</td>\n",
       "      <td>0.985542</td>\n",
       "      <td>0.985107</td>\n",
       "      <td>0.056576</td>\n",
       "    </tr>\n",
       "    <tr>\n",
       "      <th>2018-02-01</th>\n",
       "      <td>0.985044</td>\n",
       "      <td>0.986940</td>\n",
       "      <td>0.981695</td>\n",
       "      <td>0.139433</td>\n",
       "    </tr>\n",
       "    <tr>\n",
       "      <th>2018-02-02</th>\n",
       "      <td>0.924561</td>\n",
       "      <td>0.917434</td>\n",
       "      <td>0.909233</td>\n",
       "      <td>0.237400</td>\n",
       "    </tr>\n",
       "    <tr>\n",
       "      <th>2018-02-05</th>\n",
       "      <td>0.891175</td>\n",
       "      <td>0.897244</td>\n",
       "      <td>0.841454</td>\n",
       "      <td>0.161611</td>\n",
       "    </tr>\n",
       "    <tr>\n",
       "      <th>2018-02-06</th>\n",
       "      <td>0.808203</td>\n",
       "      <td>0.863066</td>\n",
       "      <td>0.808169</td>\n",
       "      <td>0.146320</td>\n",
       "    </tr>\n",
       "  </tbody>\n",
       "</table>\n",
       "</div>"
      ],
      "text/plain": [
       "                open      high       low    volume\n",
       "date                                              \n",
       "2018-01-31  0.994782  0.985542  0.985107  0.056576\n",
       "2018-02-01  0.985044  0.986940  0.981695  0.139433\n",
       "2018-02-02  0.924561  0.917434  0.909233  0.237400\n",
       "2018-02-05  0.891175  0.897244  0.841454  0.161611\n",
       "2018-02-06  0.808203  0.863066  0.808169  0.146320"
      ]
     },
     "metadata": {},
     "output_type": "display_data"
    },
    {
     "data": {
      "text/html": [
       "<div>\n",
       "<style scoped>\n",
       "    .dataframe tbody tr th:only-of-type {\n",
       "        vertical-align: middle;\n",
       "    }\n",
       "\n",
       "    .dataframe tbody tr th {\n",
       "        vertical-align: top;\n",
       "    }\n",
       "\n",
       "    .dataframe thead th {\n",
       "        text-align: right;\n",
       "    }\n",
       "</style>\n",
       "<table border=\"1\" class=\"dataframe\">\n",
       "  <thead>\n",
       "    <tr style=\"text-align: right;\">\n",
       "      <th></th>\n",
       "      <th>close</th>\n",
       "    </tr>\n",
       "    <tr>\n",
       "      <th>date</th>\n",
       "      <th></th>\n",
       "    </tr>\n",
       "  </thead>\n",
       "  <tbody>\n",
       "    <tr>\n",
       "      <th>2018-01-31</th>\n",
       "      <td>1181.59</td>\n",
       "    </tr>\n",
       "    <tr>\n",
       "      <th>2018-02-01</th>\n",
       "      <td>1119.20</td>\n",
       "    </tr>\n",
       "    <tr>\n",
       "      <th>2018-02-02</th>\n",
       "      <td>1062.39</td>\n",
       "    </tr>\n",
       "    <tr>\n",
       "      <th>2018-02-05</th>\n",
       "      <td>1084.43</td>\n",
       "    </tr>\n",
       "    <tr>\n",
       "      <th>2018-02-06</th>\n",
       "      <td>1055.41</td>\n",
       "    </tr>\n",
       "  </tbody>\n",
       "</table>\n",
       "</div>"
      ],
      "text/plain": [
       "              close\n",
       "date               \n",
       "2018-01-31  1181.59\n",
       "2018-02-01  1119.20\n",
       "2018-02-02  1062.39\n",
       "2018-02-05  1084.43\n",
       "2018-02-06  1055.41"
      ]
     },
     "metadata": {},
     "output_type": "display_data"
    }
   ],
   "source": [
    "validation_X = feature_minmax_transform[-100:-1]\n",
    "feature_minmax_transform = feature_minmax_transform[:-100]\n",
    "display(validation_X.tail())\n",
    "display(validation_y.tail())"
   ]
  },
  {
   "cell_type": "code",
   "execution_count": 14,
   "id": "79cc8cca",
   "metadata": {},
   "outputs": [
    {
     "name": "stdout",
     "output_type": "stream",
     "text": [
      "Shape of features :  (1159, 4)\n",
      "Shape of target :  (1159, 1)\n"
     ]
    },
    {
     "data": {
      "text/html": [
       "<div>\n",
       "<style scoped>\n",
       "    .dataframe tbody tr th:only-of-type {\n",
       "        vertical-align: middle;\n",
       "    }\n",
       "\n",
       "    .dataframe tbody tr th {\n",
       "        vertical-align: top;\n",
       "    }\n",
       "\n",
       "    .dataframe thead th {\n",
       "        text-align: right;\n",
       "    }\n",
       "</style>\n",
       "<table border=\"1\" class=\"dataframe\">\n",
       "  <thead>\n",
       "    <tr style=\"text-align: right;\">\n",
       "      <th></th>\n",
       "      <th>close</th>\n",
       "    </tr>\n",
       "    <tr>\n",
       "      <th>date</th>\n",
       "      <th></th>\n",
       "    </tr>\n",
       "  </thead>\n",
       "  <tbody>\n",
       "    <tr>\n",
       "      <th>2017-09-08</th>\n",
       "      <td>943.29</td>\n",
       "    </tr>\n",
       "    <tr>\n",
       "      <th>2017-09-11</th>\n",
       "      <td>946.65</td>\n",
       "    </tr>\n",
       "    <tr>\n",
       "      <th>2017-09-12</th>\n",
       "      <td>950.44</td>\n",
       "    </tr>\n",
       "    <tr>\n",
       "      <th>2017-09-13</th>\n",
       "      <td>940.13</td>\n",
       "    </tr>\n",
       "    <tr>\n",
       "      <th>2017-09-14</th>\n",
       "      <td>935.29</td>\n",
       "    </tr>\n",
       "  </tbody>\n",
       "</table>\n",
       "</div>"
      ],
      "text/plain": [
       "             close\n",
       "date              \n",
       "2017-09-08  943.29\n",
       "2017-09-11  946.65\n",
       "2017-09-12  950.44\n",
       "2017-09-13  940.13\n",
       "2017-09-14  935.29"
      ]
     },
     "metadata": {},
     "output_type": "display_data"
    }
   ],
   "source": [
    "print('Shape of features : ', feature_minmax_transform.shape)\n",
    "print('Shape of target : ', target.shape)\n",
    "display(target.tail())"
   ]
  },
  {
   "cell_type": "markdown",
   "id": "a375e54a",
   "metadata": {},
   "source": [
    "# Splitting into training and testing sets"
   ]
  },
  {
   "cell_type": "code",
   "execution_count": 15,
   "id": "764c557f",
   "metadata": {},
   "outputs": [],
   "source": [
    "ts_split= TimeSeriesSplit(n_splits=10)\n",
    "for train_index, test_index in ts_split.split(feature_minmax_transform):\n",
    "        X_train, X_test = feature_minmax_transform[:len(train_index)], feature_minmax_transform[len(train_index): (len(train_index)+len(test_index))]\n",
    "        y_train, y_test = target[:len(train_index)].values.ravel(), target[len(train_index): (len(train_index)+len(test_index))].values.ravel()"
   ]
  },
  {
   "cell_type": "code",
   "execution_count": 16,
   "id": "e8e661f3",
   "metadata": {},
   "outputs": [
    {
     "data": {
      "text/plain": [
       "(1054, 4)"
      ]
     },
     "execution_count": 16,
     "metadata": {},
     "output_type": "execute_result"
    }
   ],
   "source": [
    "X_train.shape"
   ]
  },
  {
   "cell_type": "code",
   "execution_count": 17,
   "id": "3a4e5844",
   "metadata": {},
   "outputs": [
    {
     "data": {
      "text/html": [
       "<div>\n",
       "<style scoped>\n",
       "    .dataframe tbody tr th:only-of-type {\n",
       "        vertical-align: middle;\n",
       "    }\n",
       "\n",
       "    .dataframe tbody tr th {\n",
       "        vertical-align: top;\n",
       "    }\n",
       "\n",
       "    .dataframe thead th {\n",
       "        text-align: right;\n",
       "    }\n",
       "</style>\n",
       "<table border=\"1\" class=\"dataframe\">\n",
       "  <thead>\n",
       "    <tr style=\"text-align: right;\">\n",
       "      <th></th>\n",
       "      <th>open</th>\n",
       "      <th>high</th>\n",
       "      <th>low</th>\n",
       "      <th>volume</th>\n",
       "    </tr>\n",
       "    <tr>\n",
       "      <th>date</th>\n",
       "      <th></th>\n",
       "      <th></th>\n",
       "      <th></th>\n",
       "      <th></th>\n",
       "    </tr>\n",
       "  </thead>\n",
       "  <tbody>\n",
       "    <tr>\n",
       "      <th>2013-02-08</th>\n",
       "      <td>0.006837</td>\n",
       "      <td>0.004411</td>\n",
       "      <td>0.011405</td>\n",
       "      <td>0.243547</td>\n",
       "    </tr>\n",
       "    <tr>\n",
       "      <th>2013-02-11</th>\n",
       "      <td>0.005759</td>\n",
       "      <td>0.002137</td>\n",
       "      <td>0.007784</td>\n",
       "      <td>0.168388</td>\n",
       "    </tr>\n",
       "    <tr>\n",
       "      <th>2013-02-12</th>\n",
       "      <td>0.007847</td>\n",
       "      <td>0.005173</td>\n",
       "      <td>0.011287</td>\n",
       "      <td>0.141133</td>\n",
       "    </tr>\n",
       "    <tr>\n",
       "      <th>2013-02-13</th>\n",
       "      <td>0.006837</td>\n",
       "      <td>0.003593</td>\n",
       "      <td>0.011661</td>\n",
       "      <td>0.082779</td>\n",
       "    </tr>\n",
       "    <tr>\n",
       "      <th>2013-02-14</th>\n",
       "      <td>0.006588</td>\n",
       "      <td>0.005694</td>\n",
       "      <td>0.010290</td>\n",
       "      <td>0.130207</td>\n",
       "    </tr>\n",
       "    <tr>\n",
       "      <th>...</th>\n",
       "      <td>...</td>\n",
       "      <td>...</td>\n",
       "      <td>...</td>\n",
       "      <td>...</td>\n",
       "    </tr>\n",
       "    <tr>\n",
       "      <th>2017-04-10</th>\n",
       "      <td>0.568562</td>\n",
       "      <td>0.565180</td>\n",
       "      <td>0.572542</td>\n",
       "      <td>0.023208</td>\n",
       "    </tr>\n",
       "    <tr>\n",
       "      <th>2017-04-11</th>\n",
       "      <td>0.568761</td>\n",
       "      <td>0.562572</td>\n",
       "      <td>0.564834</td>\n",
       "      <td>0.020032</td>\n",
       "    </tr>\n",
       "    <tr>\n",
       "      <th>2017-04-12</th>\n",
       "      <td>0.564727</td>\n",
       "      <td>0.561445</td>\n",
       "      <td>0.568557</td>\n",
       "      <td>0.027167</td>\n",
       "    </tr>\n",
       "    <tr>\n",
       "      <th>2017-04-13</th>\n",
       "      <td>0.567939</td>\n",
       "      <td>0.561458</td>\n",
       "      <td>0.568881</td>\n",
       "      <td>0.024421</td>\n",
       "    </tr>\n",
       "    <tr>\n",
       "      <th>2017-04-17</th>\n",
       "      <td>0.568363</td>\n",
       "      <td>0.576201</td>\n",
       "      <td>0.572841</td>\n",
       "      <td>0.023337</td>\n",
       "    </tr>\n",
       "  </tbody>\n",
       "</table>\n",
       "<p>1054 rows × 4 columns</p>\n",
       "</div>"
      ],
      "text/plain": [
       "                open      high       low    volume\n",
       "date                                              \n",
       "2013-02-08  0.006837  0.004411  0.011405  0.243547\n",
       "2013-02-11  0.005759  0.002137  0.007784  0.168388\n",
       "2013-02-12  0.007847  0.005173  0.011287  0.141133\n",
       "2013-02-13  0.006837  0.003593  0.011661  0.082779\n",
       "2013-02-14  0.006588  0.005694  0.010290  0.130207\n",
       "...              ...       ...       ...       ...\n",
       "2017-04-10  0.568562  0.565180  0.572542  0.023208\n",
       "2017-04-11  0.568761  0.562572  0.564834  0.020032\n",
       "2017-04-12  0.564727  0.561445  0.568557  0.027167\n",
       "2017-04-13  0.567939  0.561458  0.568881  0.024421\n",
       "2017-04-17  0.568363  0.576201  0.572841  0.023337\n",
       "\n",
       "[1054 rows x 4 columns]"
      ]
     },
     "execution_count": 17,
     "metadata": {},
     "output_type": "execute_result"
    }
   ],
   "source": [
    "X_train"
   ]
  },
  {
   "cell_type": "code",
   "execution_count": 18,
   "id": "311c563f",
   "metadata": {},
   "outputs": [
    {
     "data": {
      "text/plain": [
       "(1054,)"
      ]
     },
     "execution_count": 18,
     "metadata": {},
     "output_type": "execute_result"
    }
   ],
   "source": [
    "y_train.shape"
   ]
  },
  {
   "cell_type": "code",
   "execution_count": 19,
   "id": "1cdee7ff",
   "metadata": {},
   "outputs": [
    {
     "data": {
      "text/plain": [
       "array([391.6012, 390.7403, 391.8214, ..., 840.18  , 855.13  , 853.99  ])"
      ]
     },
     "execution_count": 19,
     "metadata": {},
     "output_type": "execute_result"
    }
   ],
   "source": [
    "y_train"
   ]
  },
  {
   "cell_type": "code",
   "execution_count": 20,
   "id": "078c2bd6",
   "metadata": {},
   "outputs": [
    {
     "data": {
      "text/plain": [
       "(105, 4)"
      ]
     },
     "execution_count": 20,
     "metadata": {},
     "output_type": "execute_result"
    }
   ],
   "source": [
    "X_test.shape"
   ]
  },
  {
   "cell_type": "code",
   "execution_count": 21,
   "id": "2ae93b61",
   "metadata": {},
   "outputs": [
    {
     "data": {
      "text/html": [
       "<div>\n",
       "<style scoped>\n",
       "    .dataframe tbody tr th:only-of-type {\n",
       "        vertical-align: middle;\n",
       "    }\n",
       "\n",
       "    .dataframe tbody tr th {\n",
       "        vertical-align: top;\n",
       "    }\n",
       "\n",
       "    .dataframe thead th {\n",
       "        text-align: right;\n",
       "    }\n",
       "</style>\n",
       "<table border=\"1\" class=\"dataframe\">\n",
       "  <thead>\n",
       "    <tr style=\"text-align: right;\">\n",
       "      <th></th>\n",
       "      <th>open</th>\n",
       "      <th>high</th>\n",
       "      <th>low</th>\n",
       "      <th>volume</th>\n",
       "    </tr>\n",
       "    <tr>\n",
       "      <th>date</th>\n",
       "      <th></th>\n",
       "      <th></th>\n",
       "      <th></th>\n",
       "      <th></th>\n",
       "    </tr>\n",
       "  </thead>\n",
       "  <tbody>\n",
       "    <tr>\n",
       "      <th>2017-04-18</th>\n",
       "      <td>0.582260</td>\n",
       "      <td>0.578367</td>\n",
       "      <td>0.585567</td>\n",
       "      <td>0.018346</td>\n",
       "    </tr>\n",
       "    <tr>\n",
       "      <th>2017-04-19</th>\n",
       "      <td>0.588293</td>\n",
       "      <td>0.581845</td>\n",
       "      <td>0.588403</td>\n",
       "      <td>0.024717</td>\n",
       "    </tr>\n",
       "    <tr>\n",
       "      <th>2017-04-20</th>\n",
       "      <td>0.591226</td>\n",
       "      <td>0.586463</td>\n",
       "      <td>0.593350</td>\n",
       "      <td>0.029513</td>\n",
       "    </tr>\n",
       "    <tr>\n",
       "      <th>2017-04-21</th>\n",
       "      <td>0.592322</td>\n",
       "      <td>0.584618</td>\n",
       "      <td>0.593636</td>\n",
       "      <td>0.028807</td>\n",
       "    </tr>\n",
       "    <tr>\n",
       "      <th>2017-04-24</th>\n",
       "      <td>0.602060</td>\n",
       "      <td>0.606306</td>\n",
       "      <td>0.604072</td>\n",
       "      <td>0.051951</td>\n",
       "    </tr>\n",
       "    <tr>\n",
       "      <th>...</th>\n",
       "      <td>...</td>\n",
       "      <td>...</td>\n",
       "      <td>...</td>\n",
       "      <td>...</td>\n",
       "    </tr>\n",
       "    <tr>\n",
       "      <th>2017-09-08</th>\n",
       "      <td>0.703251</td>\n",
       "      <td>0.693873</td>\n",
       "      <td>0.696096</td>\n",
       "      <td>0.021162</td>\n",
       "    </tr>\n",
       "    <tr>\n",
       "      <th>2017-09-11</th>\n",
       "      <td>0.700138</td>\n",
       "      <td>0.696324</td>\n",
       "      <td>0.697329</td>\n",
       "      <td>0.036077</td>\n",
       "    </tr>\n",
       "    <tr>\n",
       "      <th>2017-09-12</th>\n",
       "      <td>0.699789</td>\n",
       "      <td>0.690636</td>\n",
       "      <td>0.692970</td>\n",
       "      <td>0.033753</td>\n",
       "    </tr>\n",
       "    <tr>\n",
       "      <th>2017-09-13</th>\n",
       "      <td>0.698021</td>\n",
       "      <td>0.696535</td>\n",
       "      <td>0.701986</td>\n",
       "      <td>0.025382</td>\n",
       "    </tr>\n",
       "    <tr>\n",
       "      <th>2017-09-14</th>\n",
       "      <td>0.698643</td>\n",
       "      <td>0.690568</td>\n",
       "      <td>0.694036</td>\n",
       "      <td>0.040056</td>\n",
       "    </tr>\n",
       "  </tbody>\n",
       "</table>\n",
       "<p>105 rows × 4 columns</p>\n",
       "</div>"
      ],
      "text/plain": [
       "                open      high       low    volume\n",
       "date                                              \n",
       "2017-04-18  0.582260  0.578367  0.585567  0.018346\n",
       "2017-04-19  0.588293  0.581845  0.588403  0.024717\n",
       "2017-04-20  0.591226  0.586463  0.593350  0.029513\n",
       "2017-04-21  0.592322  0.584618  0.593636  0.028807\n",
       "2017-04-24  0.602060  0.606306  0.604072  0.051951\n",
       "...              ...       ...       ...       ...\n",
       "2017-09-08  0.703251  0.693873  0.696096  0.021162\n",
       "2017-09-11  0.700138  0.696324  0.697329  0.036077\n",
       "2017-09-12  0.699789  0.690636  0.692970  0.033753\n",
       "2017-09-13  0.698021  0.696535  0.701986  0.025382\n",
       "2017-09-14  0.698643  0.690568  0.694036  0.040056\n",
       "\n",
       "[105 rows x 4 columns]"
      ]
     },
     "execution_count": 21,
     "metadata": {},
     "output_type": "execute_result"
    }
   ],
   "source": [
    "X_test"
   ]
  },
  {
   "cell_type": "code",
   "execution_count": 22,
   "id": "6ef00840",
   "metadata": {},
   "outputs": [
    {
     "data": {
      "text/plain": [
       "(105,)"
      ]
     },
     "execution_count": 22,
     "metadata": {},
     "output_type": "execute_result"
    }
   ],
   "source": [
    "y_test.shape"
   ]
  },
  {
   "cell_type": "code",
   "execution_count": 23,
   "id": "3c9b792d",
   "metadata": {},
   "outputs": [
    {
     "data": {
      "text/plain": [
       "array([ 856.51,  860.08,  858.95,  878.93,  888.84,  889.14,  891.44,\n",
       "        924.52,  932.82,  937.09,  948.45,  954.72,  950.28,  958.69,\n",
       "        956.71,  954.84,  955.89,  955.14,  959.22,  964.61,  942.17,\n",
       "        950.5 ,  954.65,  964.07,  970.55,  977.61,  991.86,  993.27,\n",
       "        996.17,  987.09,  988.29,  996.12, 1003.88,  996.68, 1001.59,\n",
       "       1004.28,  970.12,  961.81,  970.5 ,  967.93,  960.18,  958.62,\n",
       "        975.22,  968.99,  978.59,  976.62,  986.09,  972.09,  948.09,\n",
       "        961.01,  937.82,  929.68,  919.46,  932.26,  927.69,  940.81,\n",
       "        951.  ,  953.53,  967.66,  968.85,  976.91,  975.96,  986.95,\n",
       "        992.77,  992.19,  993.84,  998.31,  969.03,  965.31,  952.51,\n",
       "        958.33,  945.5 ,  946.56,  947.64,  940.3 ,  945.79,  945.75,\n",
       "        944.19,  940.08,  923.59,  930.09,  938.93,  938.08,  944.27,\n",
       "        927.66,  926.18,  920.87,  940.4 ,  942.58,  936.89,  930.5 ,\n",
       "        928.13,  935.75,  943.63,  955.24,  951.99,  941.48,  942.02,\n",
       "        949.89,  941.41,  943.29,  946.65,  950.44,  940.13,  935.29])"
      ]
     },
     "execution_count": 23,
     "metadata": {},
     "output_type": "execute_result"
    }
   ],
   "source": [
    "y_test"
   ]
  },
  {
   "cell_type": "markdown",
   "id": "a560c255",
   "metadata": {},
   "source": [
    "# Processing the data"
   ]
  },
  {
   "cell_type": "code",
   "execution_count": 24,
   "id": "e497295e",
   "metadata": {},
   "outputs": [],
   "source": [
    "X_train =np.array(X_train)\n",
    "X_test =np.array(X_test)\n",
    "\n",
    "X_tr_t = X_train.reshape(X_train.shape[0], 1, X_train.shape[1])\n",
    "X_tst_t = X_test.reshape(X_test.shape[0], 1, X_test.shape[1])"
   ]
  },
  {
   "cell_type": "markdown",
   "id": "0f5b03bd",
   "metadata": {},
   "source": [
    "# Model making"
   ]
  },
  {
   "cell_type": "code",
   "execution_count": 25,
   "id": "caf3c4bf",
   "metadata": {},
   "outputs": [
    {
     "name": "stdout",
     "output_type": "stream",
     "text": [
      "Epoch 1/200\n",
      "132/132 [==============================] - 0s 2ms/step - loss: 403214.3438\n",
      "Epoch 2/200\n",
      "132/132 [==============================] - 0s 2ms/step - loss: 402280.1250\n",
      "Epoch 3/200\n",
      "132/132 [==============================] - 0s 2ms/step - loss: 400561.1875\n",
      "Epoch 4/200\n",
      "132/132 [==============================] - 0s 2ms/step - loss: 397796.2188\n",
      "Epoch 5/200\n",
      "132/132 [==============================] - 0s 2ms/step - loss: 393960.0312\n",
      "Epoch 6/200\n",
      "132/132 [==============================] - 0s 2ms/step - loss: 389172.2812\n",
      "Epoch 7/200\n",
      "132/132 [==============================] - 0s 2ms/step - loss: 383286.2188\n",
      "Epoch 8/200\n",
      "132/132 [==============================] - 0s 2ms/step - loss: 376078.4375\n",
      "Epoch 9/200\n",
      "132/132 [==============================] - 0s 2ms/step - loss: 367953.0625\n",
      "Epoch 10/200\n",
      "132/132 [==============================] - 0s 2ms/step - loss: 359190.5625\n",
      "Epoch 11/200\n",
      "132/132 [==============================] - 0s 2ms/step - loss: 349943.0625\n",
      "Epoch 12/200\n",
      "132/132 [==============================] - 0s 2ms/step - loss: 340303.6250\n",
      "Epoch 13/200\n",
      "132/132 [==============================] - 0s 2ms/step - loss: 330338.7188\n",
      "Epoch 14/200\n",
      "132/132 [==============================] - 0s 2ms/step - loss: 320100.8125\n",
      "Epoch 15/200\n",
      "132/132 [==============================] - 0s 2ms/step - loss: 309635.0938\n",
      "Epoch 16/200\n",
      "132/132 [==============================] - 0s 2ms/step - loss: 298982.2812\n",
      "Epoch 17/200\n",
      "132/132 [==============================] - 0s 2ms/step - loss: 288179.7188\n",
      "Epoch 18/200\n",
      "132/132 [==============================] - 0s 2ms/step - loss: 277262.5000\n",
      "Epoch 19/200\n",
      "132/132 [==============================] - 0s 2ms/step - loss: 266264.1250\n",
      "Epoch 20/200\n",
      "132/132 [==============================] - 0s 2ms/step - loss: 255216.5156\n",
      "Epoch 21/200\n",
      "132/132 [==============================] - 0s 2ms/step - loss: 244150.5625\n",
      "Epoch 22/200\n",
      "132/132 [==============================] - 0s 2ms/step - loss: 233095.6406\n",
      "Epoch 23/200\n",
      "132/132 [==============================] - 0s 2ms/step - loss: 222080.5000\n",
      "Epoch 24/200\n",
      "132/132 [==============================] - 0s 2ms/step - loss: 211132.5312\n",
      "Epoch 25/200\n",
      "132/132 [==============================] - 0s 2ms/step - loss: 200278.5000\n",
      "Epoch 26/200\n",
      "132/132 [==============================] - 0s 2ms/step - loss: 189544.1094\n",
      "Epoch 27/200\n",
      "132/132 [==============================] - 0s 2ms/step - loss: 178954.1406\n",
      "Epoch 28/200\n",
      "132/132 [==============================] - 0s 2ms/step - loss: 168532.4531\n",
      "Epoch 29/200\n",
      "132/132 [==============================] - 0s 2ms/step - loss: 158301.9219\n",
      "Epoch 30/200\n",
      "132/132 [==============================] - 0s 2ms/step - loss: 148284.7656\n",
      "Epoch 31/200\n",
      "132/132 [==============================] - 0s 2ms/step - loss: 138501.8281\n",
      "Epoch 32/200\n",
      "132/132 [==============================] - 0s 2ms/step - loss: 128973.3125\n",
      "Epoch 33/200\n",
      "132/132 [==============================] - 0s 2ms/step - loss: 119718.2422\n",
      "Epoch 34/200\n",
      "132/132 [==============================] - 0s 2ms/step - loss: 110754.5391\n",
      "Epoch 35/200\n",
      "132/132 [==============================] - 0s 2ms/step - loss: 102099.0469\n",
      "Epoch 36/200\n",
      "132/132 [==============================] - 0s 2ms/step - loss: 93767.3984\n",
      "Epoch 37/200\n",
      "132/132 [==============================] - 0s 2ms/step - loss: 85773.7891\n",
      "Epoch 38/200\n",
      "132/132 [==============================] - 0s 2ms/step - loss: 78131.3672\n",
      "Epoch 39/200\n",
      "132/132 [==============================] - 0s 2ms/step - loss: 70851.5000\n",
      "Epoch 40/200\n",
      "132/132 [==============================] - 0s 2ms/step - loss: 63944.2031\n",
      "Epoch 41/200\n",
      "132/132 [==============================] - 0s 2ms/step - loss: 57417.9258\n",
      "Epoch 42/200\n",
      "132/132 [==============================] - 0s 2ms/step - loss: 51279.1953\n",
      "Epoch 43/200\n",
      "132/132 [==============================] - 0s 2ms/step - loss: 45532.6875\n",
      "Epoch 44/200\n",
      "132/132 [==============================] - 0s 2ms/step - loss: 40181.2266\n",
      "Epoch 45/200\n",
      "132/132 [==============================] - 0s 2ms/step - loss: 35225.4453\n",
      "Epoch 46/200\n",
      "132/132 [==============================] - 0s 2ms/step - loss: 30663.8105\n",
      "Epoch 47/200\n",
      "132/132 [==============================] - 0s 2ms/step - loss: 26492.5293\n",
      "Epoch 48/200\n",
      "132/132 [==============================] - 0s 2ms/step - loss: 22705.3730\n",
      "Epoch 49/200\n",
      "132/132 [==============================] - 0s 2ms/step - loss: 19293.6719\n",
      "Epoch 50/200\n",
      "132/132 [==============================] - 0s 2ms/step - loss: 16246.2314\n",
      "Epoch 51/200\n",
      "132/132 [==============================] - 0s 2ms/step - loss: 13549.4131\n",
      "Epoch 52/200\n",
      "132/132 [==============================] - 0s 2ms/step - loss: 11187.0801\n",
      "Epoch 53/200\n",
      "132/132 [==============================] - 0s 2ms/step - loss: 9140.7432\n",
      "Epoch 54/200\n",
      "132/132 [==============================] - 0s 2ms/step - loss: 7389.7529\n",
      "Epoch 55/200\n",
      "132/132 [==============================] - 0s 2ms/step - loss: 5911.5298\n",
      "Epoch 56/200\n",
      "132/132 [==============================] - 0s 2ms/step - loss: 4681.8569\n",
      "Epoch 57/200\n",
      "132/132 [==============================] - 0s 2ms/step - loss: 3675.3518\n",
      "Epoch 58/200\n",
      "132/132 [==============================] - 0s 2ms/step - loss: 2865.9521\n",
      "Epoch 59/200\n",
      "132/132 [==============================] - 0s 2ms/step - loss: 2227.4834\n",
      "Epoch 60/200\n",
      "132/132 [==============================] - 0s 2ms/step - loss: 1734.3235\n",
      "Epoch 61/200\n",
      "132/132 [==============================] - 0s 2ms/step - loss: 1361.9260\n",
      "Epoch 62/200\n",
      "132/132 [==============================] - 0s 2ms/step - loss: 1087.4980\n",
      "Epoch 63/200\n",
      "132/132 [==============================] - 0s 3ms/step - loss: 890.4448\n",
      "Epoch 64/200\n",
      "132/132 [==============================] - 0s 3ms/step - loss: 752.7345\n",
      "Epoch 65/200\n",
      "132/132 [==============================] - 0s 2ms/step - loss: 659.1495\n",
      "Epoch 66/200\n",
      "132/132 [==============================] - 0s 2ms/step - loss: 597.2633\n",
      "Epoch 67/200\n",
      "132/132 [==============================] - 0s 2ms/step - loss: 557.3447\n",
      "Epoch 68/200\n",
      "132/132 [==============================] - 0s 2ms/step - loss: 532.0635\n",
      "Epoch 69/200\n",
      "132/132 [==============================] - 0s 2ms/step - loss: 516.1401\n",
      "Epoch 70/200\n",
      "132/132 [==============================] - 0s 2ms/step - loss: 505.9303\n",
      "Epoch 71/200\n",
      "132/132 [==============================] - 0s 2ms/step - loss: 499.0411\n",
      "Epoch 72/200\n",
      "132/132 [==============================] - 0s 2ms/step - loss: 493.9797\n",
      "Epoch 73/200\n",
      "132/132 [==============================] - 0s 2ms/step - loss: 489.8611\n",
      "Epoch 74/200\n",
      "132/132 [==============================] - 0s 2ms/step - loss: 486.1923\n",
      "Epoch 75/200\n",
      "132/132 [==============================] - 0s 2ms/step - loss: 482.7134\n",
      "Epoch 76/200\n",
      "132/132 [==============================] - 0s 2ms/step - loss: 479.2988\n",
      "Epoch 77/200\n",
      "132/132 [==============================] - 0s 2ms/step - loss: 475.8966\n",
      "Epoch 78/200\n",
      "132/132 [==============================] - 0s 2ms/step - loss: 472.4853\n",
      "Epoch 79/200\n",
      "132/132 [==============================] - 0s 2ms/step - loss: 469.0604\n",
      "Epoch 80/200\n",
      "132/132 [==============================] - 0s 3ms/step - loss: 465.6235\n",
      "Epoch 81/200\n",
      "132/132 [==============================] - 0s 2ms/step - loss: 462.1781\n",
      "Epoch 82/200\n",
      "132/132 [==============================] - 0s 3ms/step - loss: 458.7271\n",
      "Epoch 83/200\n",
      "132/132 [==============================] - 0s 2ms/step - loss: 455.2733\n",
      "Epoch 84/200\n",
      "132/132 [==============================] - 0s 2ms/step - loss: 451.8163\n",
      "Epoch 85/200\n",
      "132/132 [==============================] - 0s 2ms/step - loss: 448.3603\n",
      "Epoch 86/200\n",
      "132/132 [==============================] - 0s 2ms/step - loss: 444.9049\n",
      "Epoch 87/200\n",
      "132/132 [==============================] - 0s 2ms/step - loss: 441.4499\n",
      "Epoch 88/200\n",
      "132/132 [==============================] - 0s 2ms/step - loss: 437.9956\n",
      "Epoch 89/200\n",
      "132/132 [==============================] - 0s 3ms/step - loss: 434.5426\n",
      "Epoch 90/200\n",
      "132/132 [==============================] - 0s 3ms/step - loss: 431.0911\n",
      "Epoch 91/200\n",
      "132/132 [==============================] - 0s 2ms/step - loss: 427.6399\n",
      "Epoch 92/200\n",
      "132/132 [==============================] - 0s 2ms/step - loss: 424.1910\n",
      "Epoch 93/200\n",
      "132/132 [==============================] - 0s 3ms/step - loss: 420.7423\n",
      "Epoch 94/200\n",
      "132/132 [==============================] - 0s 3ms/step - loss: 417.2950A: 0s - loss: 466.88\n",
      "Epoch 95/200\n"
     ]
    },
    {
     "name": "stdout",
     "output_type": "stream",
     "text": [
      "132/132 [==============================] - 0s 3ms/step - loss: 413.8492\n",
      "Epoch 96/200\n",
      "132/132 [==============================] - 0s 3ms/step - loss: 410.4056\n",
      "Epoch 97/200\n",
      "132/132 [==============================] - 0s 2ms/step - loss: 406.9643\n",
      "Epoch 98/200\n",
      "132/132 [==============================] - 0s 2ms/step - loss: 403.5262\n",
      "Epoch 99/200\n",
      "132/132 [==============================] - 0s 3ms/step - loss: 400.0917\n",
      "Epoch 100/200\n",
      "132/132 [==============================] - 0s 3ms/step - loss: 396.6614\n",
      "Epoch 101/200\n",
      "132/132 [==============================] - 0s 2ms/step - loss: 393.2380\n",
      "Epoch 102/200\n",
      "132/132 [==============================] - 0s 2ms/step - loss: 389.8213\n",
      "Epoch 103/200\n",
      "132/132 [==============================] - 0s 2ms/step - loss: 386.4120\n",
      "Epoch 104/200\n",
      "132/132 [==============================] - 0s 2ms/step - loss: 383.0124\n",
      "Epoch 105/200\n",
      "132/132 [==============================] - 0s 2ms/step - loss: 379.6230\n",
      "Epoch 106/200\n",
      "132/132 [==============================] - 0s 2ms/step - loss: 376.2449\n",
      "Epoch 107/200\n",
      "132/132 [==============================] - 0s 2ms/step - loss: 372.8788\n",
      "Epoch 108/200\n",
      "132/132 [==============================] - 0s 2ms/step - loss: 369.5265\n",
      "Epoch 109/200\n",
      "132/132 [==============================] - 0s 2ms/step - loss: 366.1887\n",
      "Epoch 110/200\n",
      "132/132 [==============================] - 0s 2ms/step - loss: 362.8673\n",
      "Epoch 111/200\n",
      "132/132 [==============================] - 0s 2ms/step - loss: 359.5609\n",
      "Epoch 112/200\n",
      "132/132 [==============================] - 0s 2ms/step - loss: 356.2723\n",
      "Epoch 113/200\n",
      "132/132 [==============================] - 0s 3ms/step - loss: 353.0019\n",
      "Epoch 114/200\n",
      "132/132 [==============================] - 0s 3ms/step - loss: 349.7497\n",
      "Epoch 115/200\n",
      "132/132 [==============================] - 0s 2ms/step - loss: 346.5165\n",
      "Epoch 116/200\n",
      "132/132 [==============================] - 0s 2ms/step - loss: 343.3028\n",
      "Epoch 117/200\n",
      "132/132 [==============================] - 0s 2ms/step - loss: 340.1093\n",
      "Epoch 118/200\n",
      "132/132 [==============================] - 0s 2ms/step - loss: 336.9357\n",
      "Epoch 119/200\n",
      "132/132 [==============================] - 0s 2ms/step - loss: 333.7834\n",
      "Epoch 120/200\n",
      "132/132 [==============================] - 0s 2ms/step - loss: 330.6520\n",
      "Epoch 121/200\n",
      "132/132 [==============================] - 0s 2ms/step - loss: 327.5415\n",
      "Epoch 122/200\n",
      "132/132 [==============================] - 0s 2ms/step - loss: 324.4532\n",
      "Epoch 123/200\n",
      "132/132 [==============================] - 0s 2ms/step - loss: 321.3862\n",
      "Epoch 124/200\n",
      "132/132 [==============================] - 0s 2ms/step - loss: 318.3409\n",
      "Epoch 125/200\n",
      "132/132 [==============================] - 0s 2ms/step - loss: 315.3177\n",
      "Epoch 126/200\n",
      "132/132 [==============================] - 0s 2ms/step - loss: 312.3161\n",
      "Epoch 127/200\n",
      "132/132 [==============================] - 0s 2ms/step - loss: 309.3362\n",
      "Epoch 128/200\n",
      "132/132 [==============================] - 0s 2ms/step - loss: 306.3793\n",
      "Epoch 129/200\n",
      "132/132 [==============================] - 0s 2ms/step - loss: 303.4448\n",
      "Epoch 130/200\n",
      "132/132 [==============================] - 0s 2ms/step - loss: 300.5326\n",
      "Epoch 131/200\n",
      "132/132 [==============================] - 0s 2ms/step - loss: 297.6413\n",
      "Epoch 132/200\n",
      "132/132 [==============================] - 0s 2ms/step - loss: 294.7737\n",
      "Epoch 133/200\n",
      "132/132 [==============================] - 0s 2ms/step - loss: 291.9273\n",
      "Epoch 134/200\n",
      "132/132 [==============================] - 0s 2ms/step - loss: 289.1038\n",
      "Epoch 135/200\n",
      "132/132 [==============================] - 0s 2ms/step - loss: 286.3025\n",
      "Epoch 136/200\n",
      "132/132 [==============================] - 0s 2ms/step - loss: 283.5229\n",
      "Epoch 137/200\n",
      "132/132 [==============================] - 0s 2ms/step - loss: 280.7654\n",
      "Epoch 138/200\n",
      "132/132 [==============================] - 0s 2ms/step - loss: 278.0302\n",
      "Epoch 139/200\n",
      "132/132 [==============================] - 0s 2ms/step - loss: 275.3173\n",
      "Epoch 140/200\n",
      "132/132 [==============================] - 0s 2ms/step - loss: 272.6256\n",
      "Epoch 141/200\n",
      "132/132 [==============================] - 0s 2ms/step - loss: 269.9566\n",
      "Epoch 142/200\n",
      "132/132 [==============================] - 0s 2ms/step - loss: 267.3091\n",
      "Epoch 143/200\n",
      "132/132 [==============================] - 0s 2ms/step - loss: 264.6840\n",
      "Epoch 144/200\n",
      "132/132 [==============================] - 0s 2ms/step - loss: 262.0804\n",
      "Epoch 145/200\n",
      "132/132 [==============================] - 0s 2ms/step - loss: 259.4988\n",
      "Epoch 146/200\n",
      "132/132 [==============================] - 0s 3ms/step - loss: 256.9389\n",
      "Epoch 147/200\n",
      "132/132 [==============================] - 0s 2ms/step - loss: 254.4010\n",
      "Epoch 148/200\n",
      "132/132 [==============================] - 0s 2ms/step - loss: 251.8846\n",
      "Epoch 149/200\n",
      "132/132 [==============================] - 0s 3ms/step - loss: 249.3903\n",
      "Epoch 150/200\n",
      "132/132 [==============================] - 0s 3ms/step - loss: 246.9170\n",
      "Epoch 151/200\n",
      "132/132 [==============================] - 0s 3ms/step - loss: 244.4657\n",
      "Epoch 152/200\n",
      "132/132 [==============================] - 0s 2ms/step - loss: 242.0355\n",
      "Epoch 153/200\n",
      "132/132 [==============================] - 0s 3ms/step - loss: 239.6273\n",
      "Epoch 154/200\n",
      "132/132 [==============================] - 0s 2ms/step - loss: 237.2405\n",
      "Epoch 155/200\n",
      "132/132 [==============================] - 0s 3ms/step - loss: 234.8750\n",
      "Epoch 156/200\n",
      "132/132 [==============================] - 0s 3ms/step - loss: 232.5308\n",
      "Epoch 157/200\n",
      "132/132 [==============================] - 0s 2ms/step - loss: 230.2079\n",
      "Epoch 158/200\n",
      "132/132 [==============================] - 0s 2ms/step - loss: 227.9068\n",
      "Epoch 159/200\n",
      "132/132 [==============================] - 0s 2ms/step - loss: 225.6268\n",
      "Epoch 160/200\n",
      "132/132 [==============================] - 0s 2ms/step - loss: 223.3682\n",
      "Epoch 161/200\n",
      "132/132 [==============================] - 0s 2ms/step - loss: 221.1307\n",
      "Epoch 162/200\n",
      "132/132 [==============================] - 0s 2ms/step - loss: 218.9144\n",
      "Epoch 163/200\n",
      "132/132 [==============================] - 0s 2ms/step - loss: 216.7193\n",
      "Epoch 164/200\n",
      "132/132 [==============================] - 0s 2ms/step - loss: 214.5457\n",
      "Epoch 165/200\n",
      "132/132 [==============================] - 0s 2ms/step - loss: 212.3935\n",
      "Epoch 166/200\n",
      "132/132 [==============================] - 0s 2ms/step - loss: 210.2616\n",
      "Epoch 167/200\n",
      "132/132 [==============================] - 0s 2ms/step - loss: 208.1514\n",
      "Epoch 168/200\n",
      "132/132 [==============================] - 0s 3ms/step - loss: 206.0624\n",
      "Epoch 169/200\n",
      "132/132 [==============================] - 0s 3ms/step - loss: 203.9943\n",
      "Epoch 170/200\n",
      "132/132 [==============================] - 0s 2ms/step - loss: 201.9475\n",
      "Epoch 171/200\n",
      "132/132 [==============================] - 0s 2ms/step - loss: 199.9215\n",
      "Epoch 172/200\n",
      "132/132 [==============================] - 0s 3ms/step - loss: 197.9168\n",
      "Epoch 173/200\n",
      "132/132 [==============================] - 0s 2ms/step - loss: 195.9331\n",
      "Epoch 174/200\n",
      "132/132 [==============================] - 0s 2ms/step - loss: 193.9701\n",
      "Epoch 175/200\n",
      "132/132 [==============================] - 0s 2ms/step - loss: 192.0288\n",
      "Epoch 176/200\n",
      "132/132 [==============================] - 0s 2ms/step - loss: 190.1080\n",
      "Epoch 177/200\n",
      "132/132 [==============================] - 0s 2ms/step - loss: 188.2086\n",
      "Epoch 178/200\n",
      "132/132 [==============================] - 0s 2ms/step - loss: 186.3298\n",
      "Epoch 179/200\n",
      "132/132 [==============================] - 0s 2ms/step - loss: 184.4721\n",
      "Epoch 180/200\n",
      "132/132 [==============================] - 0s 2ms/step - loss: 182.6355\n",
      "Epoch 181/200\n",
      "132/132 [==============================] - 0s 2ms/step - loss: 180.8199\n",
      "Epoch 182/200\n",
      "132/132 [==============================] - 0s 2ms/step - loss: 179.0252\n",
      "Epoch 183/200\n",
      "132/132 [==============================] - 0s 2ms/step - loss: 177.2512\n",
      "Epoch 184/200\n",
      "132/132 [==============================] - 0s 2ms/step - loss: 175.4986\n",
      "Epoch 185/200\n",
      "132/132 [==============================] - 0s 2ms/step - loss: 173.7667\n",
      "Epoch 186/200\n",
      "132/132 [==============================] - 0s 3ms/step - loss: 172.0563\n",
      "Epoch 187/200\n",
      "132/132 [==============================] - 0s 3ms/step - loss: 170.3665\n",
      "Epoch 188/200\n",
      "132/132 [==============================] - 0s 2ms/step - loss: 168.6979\n",
      "Epoch 189/200\n",
      "132/132 [==============================] - 0s 2ms/step - loss: 167.0502\n",
      "Epoch 190/200\n"
     ]
    },
    {
     "name": "stdout",
     "output_type": "stream",
     "text": [
      "132/132 [==============================] - 0s 2ms/step - loss: 165.4237\n",
      "Epoch 191/200\n",
      "132/132 [==============================] - 0s 2ms/step - loss: 163.8179\n",
      "Epoch 192/200\n",
      "132/132 [==============================] - 0s 2ms/step - loss: 162.2328\n",
      "Epoch 193/200\n",
      "132/132 [==============================] - 0s 2ms/step - loss: 160.6690\n",
      "Epoch 194/200\n",
      "132/132 [==============================] - 0s 2ms/step - loss: 159.1262\n",
      "Epoch 195/200\n",
      "132/132 [==============================] - 0s 2ms/step - loss: 157.6048A: 0s - loss: 149.\n",
      "Epoch 196/200\n",
      "132/132 [==============================] - 0s 2ms/step - loss: 156.1039\n",
      "Epoch 197/200\n",
      "132/132 [==============================] - 0s 2ms/step - loss: 154.6241\n",
      "Epoch 198/200\n",
      "132/132 [==============================] - 0s 2ms/step - loss: 153.1655\n",
      "Epoch 199/200\n",
      "132/132 [==============================] - 0s 2ms/step - loss: 151.7278\n",
      "Epoch 200/200\n",
      "132/132 [==============================] - 0s 2ms/step - loss: 150.3112\n"
     ]
    }
   ],
   "source": [
    "from keras.models import Sequential\n",
    "from keras.layers import Dense\n",
    "import keras.backend as K\n",
    "from keras.callbacks import EarlyStopping\n",
    "from keras.optimizers import Adam\n",
    "from keras.models import load_model\n",
    "from keras.layers import LSTM\n",
    "K.clear_session()\n",
    "model_lstm = Sequential()\n",
    "model_lstm.add(LSTM(16, input_shape=(1, X_train.shape[1]), activation='relu', return_sequences=False))\n",
    "model_lstm.add(Dense(1))\n",
    "model_lstm.compile(loss='mean_squared_error', optimizer='adam')\n",
    "early_stop = EarlyStopping(monitor='loss', patience=5, verbose=1)\n",
    "history_model_lstm = model_lstm.fit(X_tr_t, y_train, epochs=200, batch_size=8, verbose=1, shuffle=False, callbacks=[early_stop])"
   ]
  },
  {
   "cell_type": "code",
   "execution_count": 26,
   "id": "7d69ee66",
   "metadata": {},
   "outputs": [
    {
     "name": "stdout",
     "output_type": "stream",
     "text": [
      "The R2 score on the Train set is:\t0.992\n",
      "The R2 score on the Test set is:\t0.805\n"
     ]
    }
   ],
   "source": [
    "y_pred_test_lstm = model_lstm.predict(X_tst_t)\n",
    "y_train_pred_lstm = model_lstm.predict(X_tr_t)\n",
    "print(\"The R2 score on the Train set is:\\t{:0.3f}\".format(r2_score(y_train, y_train_pred_lstm)))\n",
    "r2_train = r2_score(y_train, y_train_pred_lstm)\n",
    "\n",
    "print(\"The R2 score on the Test set is:\\t{:0.3f}\".format(r2_score(y_test, y_pred_test_lstm)))\n",
    "r2_test = r2_score(y_test, y_pred_test_lstm)"
   ]
  },
  {
   "cell_type": "code",
   "execution_count": 27,
   "id": "c6bc7955",
   "metadata": {},
   "outputs": [
    {
     "name": "stdout",
     "output_type": "stream",
     "text": [
      "105/105 [==============================] - 0s 1ms/step - loss: 169.7484\n"
     ]
    }
   ],
   "source": [
    "score_lstm= model_lstm.evaluate(X_tst_t, y_test, batch_size=1)"
   ]
  },
  {
   "cell_type": "code",
   "execution_count": 28,
   "id": "6dd1a4ea",
   "metadata": {},
   "outputs": [
    {
     "name": "stdout",
     "output_type": "stream",
     "text": [
      "LSTM: 169.748444\n"
     ]
    }
   ],
   "source": [
    "print('LSTM: %f'%score_lstm)"
   ]
  },
  {
   "cell_type": "code",
   "execution_count": 29,
   "id": "6da1cb8d",
   "metadata": {},
   "outputs": [],
   "source": [
    "y_pred_test_LSTM = model_lstm.predict(X_tst_t)"
   ]
  },
  {
   "cell_type": "markdown",
   "id": "647954a7",
   "metadata": {},
   "source": [
    "# Plotting the predictions"
   ]
  },
  {
   "cell_type": "code",
   "execution_count": 30,
   "id": "f9782149",
   "metadata": {},
   "outputs": [
    {
     "data": {
      "image/png": "[encoded data removed]",
      "text/plain": [
       "<Figure size 432x288 with 1 Axes>"
      ]
     },
     "metadata": {
      "needs_background": "light"
     },
     "output_type": "display_data"
    }
   ],
   "source": [
    "plt.plot(y_test, label='True')\n",
    "plt.plot(y_pred_test_LSTM, label='LSTM')\n",
    "plt.title(\"LSTM's_Prediction\")\n",
    "plt.xlabel('Observation')\n",
    "plt.ylabel('INR_Scaled')\n",
    "plt.legend()\n",
    "plt.show()"
   ]
  },
  {
   "cell_type": "code",
   "execution_count": 31,
   "id": "105def49",
   "metadata": {},
   "outputs": [
    {
     "name": "stdout",
     "output_type": "stream",
     "text": [
      "Saved model to disk\n"
     ]
    }
   ],
   "source": [
    "model_json = model_lstm.to_json()\n",
    "with open(\"model.json\", \"w\") as json_file:\n",
    "    json_file.write(model_json)\n",
    "# serialize weights to HDF5\n",
    "model_lstm.save_weights(\"model.h5\")\n",
    "print(\"Saved model to disk\")"
   ]
  },
  {
   "cell_type": "code",
   "execution_count": 32,
   "id": "62a03abc",
   "metadata": {},
   "outputs": [],
   "source": [
    "from keras.models import model_from_json"
   ]
  },
  {
   "cell_type": "code",
   "execution_count": 33,
   "id": "90cadfd7",
   "metadata": {},
   "outputs": [
    {
     "name": "stdout",
     "output_type": "stream",
     "text": [
      "Loaded model from disk\n"
     ]
    }
   ],
   "source": [
    "json_file = open('model.json', 'r')\n",
    "loaded_model_json = json_file.read()\n",
    "#json_file.close()\n",
    "loaded_model = model_from_json(loaded_model_json)\n",
    "# load weights into new model\n",
    "loaded_model.load_weights(\"model.h5\")\n",
    "print(\"Loaded model from disk\")"
   ]
  },
  {
   "cell_type": "code",
   "execution_count": 34,
   "id": "c1773b49",
   "metadata": {},
   "outputs": [],
   "source": [
    "loaded_model.compile(loss='mean_squared_error', optimizer='adam')"
   ]
  },
  {
   "cell_type": "code",
   "execution_count": 35,
   "id": "ccc695e9",
   "metadata": {},
   "outputs": [
    {
     "name": "stdout",
     "output_type": "stream",
     "text": [
      "105/105 [==============================] - 0s 1ms/step - loss: 169.7484\n"
     ]
    }
   ],
   "source": [
    "score= loaded_model.evaluate(X_tst_t, y_test, batch_size=1)"
   ]
  },
  {
   "cell_type": "code",
   "execution_count": 36,
   "id": "045f399a",
   "metadata": {},
   "outputs": [
    {
     "data": {
      "text/plain": [
       "169.74844360351562"
      ]
     },
     "execution_count": 36,
     "metadata": {},
     "output_type": "execute_result"
    }
   ],
   "source": [
    "score"
   ]
  }
 ],
 "metadata": {
  "kernelspec": {
   "display_name": "Python 3",
   "language": "python",
   "name": "python3"
  },
  "language_info": {
   "codemirror_mode": {
    "name": "ipython",
    "version": 3
   },
   "file_extension": ".py",
   "mimetype": "text/x-python",
   "name": "python",
   "nbconvert_exporter": "python",
   "pygments_lexer": "ipython3",
   "version": "3.8.8"
  }
 },
 "nbformat": 4,
 "nbformat_minor": 5
}
