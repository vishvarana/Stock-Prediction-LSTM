{
 "cells": [
  {
   "cell_type": "code",
   "execution_count": 1,
   "id": "aeed51d8",
   "metadata": {},
   "outputs": [],
   "source": [
    "import pandas as pd\n",
    "import numpy as np\n",
    "import matplotlib.pyplot as plt\n",
    "import matplotlib\n",
    "from sklearn.preprocessing import MinMaxScaler\n",
    "from tensorflow.keras.layers import LSTM,Dense,Dropout\n",
    "from sklearn.model_selection import TimeSeriesSplit\n",
    "from sklearn.metrics import mean_squared_error, r2_score\n",
    "import matplotlib.dates as mdates\n",
    "from sklearn import linear_model"
   ]
  },
  {
   "cell_type": "code",
   "execution_count": 2,
   "id": "accf4992",
   "metadata": {},
   "outputs": [
    {
     "data": {
      "text/html": [
       "<div>\n",
       "<style scoped>\n",
       "    .dataframe tbody tr th:only-of-type {\n",
       "        vertical-align: middle;\n",
       "    }\n",
       "\n",
       "    .dataframe tbody tr th {\n",
       "        vertical-align: top;\n",
       "    }\n",
       "\n",
       "    .dataframe thead th {\n",
       "        text-align: right;\n",
       "    }\n",
       "</style>\n",
       "<table border=\"1\" class=\"dataframe\">\n",
       "  <thead>\n",
       "    <tr style=\"text-align: right;\">\n",
       "      <th></th>\n",
       "      <th>open</th>\n",
       "      <th>high</th>\n",
       "      <th>low</th>\n",
       "      <th>close</th>\n",
       "      <th>volume</th>\n",
       "      <th>Name</th>\n",
       "    </tr>\n",
       "    <tr>\n",
       "      <th>date</th>\n",
       "      <th></th>\n",
       "      <th></th>\n",
       "      <th></th>\n",
       "      <th></th>\n",
       "      <th></th>\n",
       "      <th></th>\n",
       "    </tr>\n",
       "  </thead>\n",
       "  <tbody>\n",
       "    <tr>\n",
       "      <th>2013-02-08</th>\n",
       "      <td>390.4551</td>\n",
       "      <td>393.7283</td>\n",
       "      <td>390.1698</td>\n",
       "      <td>393.0777</td>\n",
       "      <td>6031199</td>\n",
       "      <td>GOOGL</td>\n",
       "    </tr>\n",
       "    <tr>\n",
       "      <th>2013-02-11</th>\n",
       "      <td>389.5892</td>\n",
       "      <td>391.8915</td>\n",
       "      <td>387.2619</td>\n",
       "      <td>391.6012</td>\n",
       "      <td>4330781</td>\n",
       "      <td>GOOGL</td>\n",
       "    </tr>\n",
       "    <tr>\n",
       "      <th>2013-02-12</th>\n",
       "      <td>391.2659</td>\n",
       "      <td>394.3440</td>\n",
       "      <td>390.0747</td>\n",
       "      <td>390.7403</td>\n",
       "      <td>3714176</td>\n",
       "      <td>GOOGL</td>\n",
       "    </tr>\n",
       "    <tr>\n",
       "      <th>2013-02-13</th>\n",
       "      <td>390.4551</td>\n",
       "      <td>393.0677</td>\n",
       "      <td>390.3750</td>\n",
       "      <td>391.8214</td>\n",
       "      <td>2393946</td>\n",
       "      <td>GOOGL</td>\n",
       "    </tr>\n",
       "    <tr>\n",
       "      <th>2013-02-14</th>\n",
       "      <td>390.2549</td>\n",
       "      <td>394.7644</td>\n",
       "      <td>389.2739</td>\n",
       "      <td>394.3039</td>\n",
       "      <td>3466971</td>\n",
       "      <td>GOOGL</td>\n",
       "    </tr>\n",
       "  </tbody>\n",
       "</table>\n",
       "</div>"
      ],
      "text/plain": [
       "                open      high       low     close   volume   Name\n",
       "date                                                              \n",
       "2013-02-08  390.4551  393.7283  390.1698  393.0777  6031199  GOOGL\n",
       "2013-02-11  389.5892  391.8915  387.2619  391.6012  4330781  GOOGL\n",
       "2013-02-12  391.2659  394.3440  390.0747  390.7403  3714176  GOOGL\n",
       "2013-02-13  390.4551  393.0677  390.3750  391.8214  2393946  GOOGL\n",
       "2013-02-14  390.2549  394.7644  389.2739  394.3039  3466971  GOOGL"
      ]
     },
     "execution_count": 2,
     "metadata": {},
     "output_type": "execute_result"
    }
   ],
   "source": [
    "df_final = pd.read_csv(\"GOOGL_data.csv\",na_values=['null'],index_col='date',parse_dates=True,infer_datetime_format=True)\n",
    "df_final.head()"
   ]
  },
  {
   "cell_type": "code",
   "execution_count": 3,
   "id": "8bbca657",
   "metadata": {},
   "outputs": [
    {
     "data": {
      "text/html": [
       "<div>\n",
       "<style scoped>\n",
       "    .dataframe tbody tr th:only-of-type {\n",
       "        vertical-align: middle;\n",
       "    }\n",
       "\n",
       "    .dataframe tbody tr th {\n",
       "        vertical-align: top;\n",
       "    }\n",
       "\n",
       "    .dataframe thead th {\n",
       "        text-align: right;\n",
       "    }\n",
       "</style>\n",
       "<table border=\"1\" class=\"dataframe\">\n",
       "  <thead>\n",
       "    <tr style=\"text-align: right;\">\n",
       "      <th></th>\n",
       "      <th>open</th>\n",
       "      <th>high</th>\n",
       "      <th>low</th>\n",
       "      <th>close</th>\n",
       "      <th>volume</th>\n",
       "    </tr>\n",
       "    <tr>\n",
       "      <th>date</th>\n",
       "      <th></th>\n",
       "      <th></th>\n",
       "      <th></th>\n",
       "      <th></th>\n",
       "      <th></th>\n",
       "    </tr>\n",
       "  </thead>\n",
       "  <tbody>\n",
       "    <tr>\n",
       "      <th>2013-02-08</th>\n",
       "      <td>390.4551</td>\n",
       "      <td>393.7283</td>\n",
       "      <td>390.1698</td>\n",
       "      <td>393.0777</td>\n",
       "      <td>6031199</td>\n",
       "    </tr>\n",
       "    <tr>\n",
       "      <th>2013-02-11</th>\n",
       "      <td>389.5892</td>\n",
       "      <td>391.8915</td>\n",
       "      <td>387.2619</td>\n",
       "      <td>391.6012</td>\n",
       "      <td>4330781</td>\n",
       "    </tr>\n",
       "    <tr>\n",
       "      <th>2013-02-12</th>\n",
       "      <td>391.2659</td>\n",
       "      <td>394.3440</td>\n",
       "      <td>390.0747</td>\n",
       "      <td>390.7403</td>\n",
       "      <td>3714176</td>\n",
       "    </tr>\n",
       "    <tr>\n",
       "      <th>2013-02-13</th>\n",
       "      <td>390.4551</td>\n",
       "      <td>393.0677</td>\n",
       "      <td>390.3750</td>\n",
       "      <td>391.8214</td>\n",
       "      <td>2393946</td>\n",
       "    </tr>\n",
       "    <tr>\n",
       "      <th>2013-02-14</th>\n",
       "      <td>390.2549</td>\n",
       "      <td>394.7644</td>\n",
       "      <td>389.2739</td>\n",
       "      <td>394.3039</td>\n",
       "      <td>3466971</td>\n",
       "    </tr>\n",
       "  </tbody>\n",
       "</table>\n",
       "</div>"
      ],
      "text/plain": [
       "                open      high       low     close   volume\n",
       "date                                                       \n",
       "2013-02-08  390.4551  393.7283  390.1698  393.0777  6031199\n",
       "2013-02-11  389.5892  391.8915  387.2619  391.6012  4330781\n",
       "2013-02-12  391.2659  394.3440  390.0747  390.7403  3714176\n",
       "2013-02-13  390.4551  393.0677  390.3750  391.8214  2393946\n",
       "2013-02-14  390.2549  394.7644  389.2739  394.3039  3466971"
      ]
     },
     "execution_count": 3,
     "metadata": {},
     "output_type": "execute_result"
    }
   ],
   "source": [
    "df_final.drop(df_final.columns[[5]], axis=1, inplace=True)\n",
    "df_final.head()"
   ]
  },
  {
   "cell_type": "code",
   "execution_count": 4,
   "id": "531fa27f",
   "metadata": {},
   "outputs": [
    {
     "data": {
      "text/plain": [
       "(1259, 5)"
      ]
     },
     "execution_count": 4,
     "metadata": {},
     "output_type": "execute_result"
    }
   ],
   "source": [
    "df_final.shape"
   ]
  },
  {
   "cell_type": "markdown",
   "id": "6083885f",
   "metadata": {},
   "source": [
    "# Plotting the close column"
   ]
  },
  {
   "cell_type": "code",
   "execution_count": 5,
   "id": "8286589b",
   "metadata": {},
   "outputs": [
    {
     "data": {
      "text/plain": [
       "<AxesSubplot:xlabel='date'>"
      ]
     },
     "execution_count": 5,
     "metadata": {},
     "output_type": "execute_result"
    },
    {
     "data": {
      "image/png": "[encoded data removed]",
      "text/plain": [
       "<Figure size 432x288 with 1 Axes>"
      ]
     },
     "metadata": {
      "needs_background": "light"
     },
     "output_type": "display_data"
    }
   ],
   "source": [
    "df_final['close'].plot()"
   ]
  },
  {
   "cell_type": "markdown",
   "id": "8c556ec7",
   "metadata": {},
   "source": [
    "# Correlating the features with close"
   ]
  },
  {
   "cell_type": "code",
   "execution_count": 6,
   "id": "5bbb2342",
   "metadata": {},
   "outputs": [],
   "source": [
    "D = df_final.drop(['close'],axis=1)"
   ]
  },
  {
   "cell_type": "code",
   "execution_count": 7,
   "id": "ad7cdab0",
   "metadata": {},
   "outputs": [
    {
     "data": {
      "text/plain": [
       "<AxesSubplot:title={'center':'Correlation with Close Feature'}>"
      ]
     },
     "execution_count": 7,
     "metadata": {},
     "output_type": "execute_result"
    },
    {
     "data": {
      "image/png": "[encoded data removed]",
      "text/plain": [
       "<Figure size 1440x720 with 1 Axes>"
      ]
     },
     "metadata": {
      "needs_background": "light"
     },
     "output_type": "display_data"
    }
   ],
   "source": [
    "D.corrwith(df_final['close']).plot.bar(\n",
    "        figsize = (20, 10), title = \"Correlation with Close Feature\", fontsize = 20,\n",
    "        rot = 90, grid = True)"
   ]
  },
  {
   "cell_type": "code",
   "execution_count": 8,
   "id": "93632189",
   "metadata": {},
   "outputs": [
    {
     "data": {
      "text/html": [
       "<div>\n",
       "<style scoped>\n",
       "    .dataframe tbody tr th:only-of-type {\n",
       "        vertical-align: middle;\n",
       "    }\n",
       "\n",
       "    .dataframe tbody tr th {\n",
       "        vertical-align: top;\n",
       "    }\n",
       "\n",
       "    .dataframe thead th {\n",
       "        text-align: right;\n",
       "    }\n",
       "</style>\n",
       "<table border=\"1\" class=\"dataframe\">\n",
       "  <thead>\n",
       "    <tr style=\"text-align: right;\">\n",
       "      <th></th>\n",
       "      <th>open</th>\n",
       "      <th>high</th>\n",
       "      <th>low</th>\n",
       "      <th>close</th>\n",
       "      <th>volume</th>\n",
       "    </tr>\n",
       "    <tr>\n",
       "      <th>date</th>\n",
       "      <th></th>\n",
       "      <th></th>\n",
       "      <th></th>\n",
       "      <th></th>\n",
       "      <th></th>\n",
       "    </tr>\n",
       "  </thead>\n",
       "  <tbody>\n",
       "    <tr>\n",
       "      <th>2013-02-08</th>\n",
       "      <td>390.4551</td>\n",
       "      <td>393.7283</td>\n",
       "      <td>390.1698</td>\n",
       "      <td>393.0777</td>\n",
       "      <td>6031199</td>\n",
       "    </tr>\n",
       "    <tr>\n",
       "      <th>2013-02-11</th>\n",
       "      <td>389.5892</td>\n",
       "      <td>391.8915</td>\n",
       "      <td>387.2619</td>\n",
       "      <td>391.6012</td>\n",
       "      <td>4330781</td>\n",
       "    </tr>\n",
       "    <tr>\n",
       "      <th>2013-02-12</th>\n",
       "      <td>391.2659</td>\n",
       "      <td>394.3440</td>\n",
       "      <td>390.0747</td>\n",
       "      <td>390.7403</td>\n",
       "      <td>3714176</td>\n",
       "    </tr>\n",
       "    <tr>\n",
       "      <th>2013-02-13</th>\n",
       "      <td>390.4551</td>\n",
       "      <td>393.0677</td>\n",
       "      <td>390.3750</td>\n",
       "      <td>391.8214</td>\n",
       "      <td>2393946</td>\n",
       "    </tr>\n",
       "    <tr>\n",
       "      <th>2013-02-14</th>\n",
       "      <td>390.2549</td>\n",
       "      <td>394.7644</td>\n",
       "      <td>389.2739</td>\n",
       "      <td>394.3039</td>\n",
       "      <td>3466971</td>\n",
       "    </tr>\n",
       "  </tbody>\n",
       "</table>\n",
       "</div>"
      ],
      "text/plain": [
       "                open      high       low     close   volume\n",
       "date                                                       \n",
       "2013-02-08  390.4551  393.7283  390.1698  393.0777  6031199\n",
       "2013-02-11  389.5892  391.8915  387.2619  391.6012  4330781\n",
       "2013-02-12  391.2659  394.3440  390.0747  390.7403  3714176\n",
       "2013-02-13  390.4551  393.0677  390.3750  391.8214  2393946\n",
       "2013-02-14  390.2549  394.7644  389.2739  394.3039  3466971"
      ]
     },
     "metadata": {},
     "output_type": "display_data"
    }
   ],
   "source": [
    "#We can see that all other features except volume are positively correlated\n",
    "test = df_final\n",
    "# Target column\n",
    "target = pd.DataFrame(test['close'])\n",
    "display(test.head())"
   ]
  },
  {
   "cell_type": "code",
   "execution_count": 9,
   "id": "3246015f",
   "metadata": {},
   "outputs": [],
   "source": [
    "feature_columns = ['open', 'high', 'low', 'volume']"
   ]
  },
  {
   "cell_type": "code",
   "execution_count": 10,
   "id": "b047516f",
   "metadata": {},
   "outputs": [
    {
     "data": {
      "text/html": [
       "<div>\n",
       "<style scoped>\n",
       "    .dataframe tbody tr th:only-of-type {\n",
       "        vertical-align: middle;\n",
       "    }\n",
       "\n",
       "    .dataframe tbody tr th {\n",
       "        vertical-align: top;\n",
       "    }\n",
       "\n",
       "    .dataframe thead th {\n",
       "        text-align: right;\n",
       "    }\n",
       "</style>\n",
       "<table border=\"1\" class=\"dataframe\">\n",
       "  <thead>\n",
       "    <tr style=\"text-align: right;\">\n",
       "      <th></th>\n",
       "      <th>open</th>\n",
       "      <th>high</th>\n",
       "      <th>low</th>\n",
       "      <th>volume</th>\n",
       "    </tr>\n",
       "    <tr>\n",
       "      <th>date</th>\n",
       "      <th></th>\n",
       "      <th></th>\n",
       "      <th></th>\n",
       "      <th></th>\n",
       "    </tr>\n",
       "  </thead>\n",
       "  <tbody>\n",
       "    <tr>\n",
       "      <th>2013-02-08</th>\n",
       "      <td>0.006837</td>\n",
       "      <td>0.004411</td>\n",
       "      <td>0.011405</td>\n",
       "      <td>0.243547</td>\n",
       "    </tr>\n",
       "    <tr>\n",
       "      <th>2013-02-11</th>\n",
       "      <td>0.005759</td>\n",
       "      <td>0.002137</td>\n",
       "      <td>0.007784</td>\n",
       "      <td>0.168388</td>\n",
       "    </tr>\n",
       "    <tr>\n",
       "      <th>2013-02-12</th>\n",
       "      <td>0.007847</td>\n",
       "      <td>0.005173</td>\n",
       "      <td>0.011287</td>\n",
       "      <td>0.141133</td>\n",
       "    </tr>\n",
       "    <tr>\n",
       "      <th>2013-02-13</th>\n",
       "      <td>0.006837</td>\n",
       "      <td>0.003593</td>\n",
       "      <td>0.011661</td>\n",
       "      <td>0.082779</td>\n",
       "    </tr>\n",
       "    <tr>\n",
       "      <th>2013-02-14</th>\n",
       "      <td>0.006588</td>\n",
       "      <td>0.005694</td>\n",
       "      <td>0.010290</td>\n",
       "      <td>0.130207</td>\n",
       "    </tr>\n",
       "  </tbody>\n",
       "</table>\n",
       "</div>"
      ],
      "text/plain": [
       "                open      high       low    volume\n",
       "date                                              \n",
       "2013-02-08  0.006837  0.004411  0.011405  0.243547\n",
       "2013-02-11  0.005759  0.002137  0.007784  0.168388\n",
       "2013-02-12  0.007847  0.005173  0.011287  0.141133\n",
       "2013-02-13  0.006837  0.003593  0.011661  0.082779\n",
       "2013-02-14  0.006588  0.005694  0.010290  0.130207"
      ]
     },
     "execution_count": 10,
     "metadata": {},
     "output_type": "execute_result"
    }
   ],
   "source": [
    "from sklearn.preprocessing import MinMaxScaler\n",
    "scaler = MinMaxScaler()\n",
    "feature_minmax_transform_data = scaler.fit_transform(test[feature_columns])\n",
    "feature_minmax_transform = pd.DataFrame(columns=feature_columns, data=feature_minmax_transform_data, index=test.index)\n",
    "feature_minmax_transform.head()"
   ]
  },
  {
   "cell_type": "code",
   "execution_count": 11,
   "id": "c02f5b99",
   "metadata": {},
   "outputs": [
    {
     "name": "stdout",
     "output_type": "stream",
     "text": [
      "Shape of features :  (1259, 4)\n",
      "Shape of target :  (1259, 1)\n"
     ]
    }
   ],
   "source": [
    "print('Shape of features : ', feature_minmax_transform.shape)\n",
    "print('Shape of target : ', target.shape)"
   ]
  },
  {
   "cell_type": "code",
   "execution_count": 12,
   "id": "c882194f",
   "metadata": {},
   "outputs": [],
   "source": [
    "target = target.shift(-1)\n",
    "validation_y = target[-100:-1]\n",
    "target = target[:-100]"
   ]
  },
  {
   "cell_type": "code",
   "execution_count": 13,
   "id": "73eb4be5",
   "metadata": {},
   "outputs": [
    {
     "data": {
      "text/html": [
       "<div>\n",
       "<style scoped>\n",
       "    .dataframe tbody tr th:only-of-type {\n",
       "        vertical-align: middle;\n",
       "    }\n",
       "\n",
       "    .dataframe tbody tr th {\n",
       "        vertical-align: top;\n",
       "    }\n",
       "\n",
       "    .dataframe thead th {\n",
       "        text-align: right;\n",
       "    }\n",
       "</style>\n",
       "<table border=\"1\" class=\"dataframe\">\n",
       "  <thead>\n",
       "    <tr style=\"text-align: right;\">\n",
       "      <th></th>\n",
       "      <th>open</th>\n",
       "      <th>high</th>\n",
       "      <th>low</th>\n",
       "      <th>volume</th>\n",
       "    </tr>\n",
       "    <tr>\n",
       "      <th>date</th>\n",
       "      <th></th>\n",
       "      <th></th>\n",
       "      <th></th>\n",
       "      <th></th>\n",
       "    </tr>\n",
       "  </thead>\n",
       "  <tbody>\n",
       "    <tr>\n",
       "      <th>2018-01-31</th>\n",
       "      <td>0.994782</td>\n",
       "      <td>0.985542</td>\n",
       "      <td>0.985107</td>\n",
       "      <td>0.056576</td>\n",
       "    </tr>\n",
       "    <tr>\n",
       "      <th>2018-02-01</th>\n",
       "      <td>0.985044</td>\n",
       "      <td>0.986940</td>\n",
       "      <td>0.981695</td>\n",
       "      <td>0.139433</td>\n",
       "    </tr>\n",
       "    <tr>\n",
       "      <th>2018-02-02</th>\n",
       "      <td>0.924561</td>\n",
       "      <td>0.917434</td>\n",
       "      <td>0.909233</td>\n",
       "      <td>0.237400</td>\n",
       "    </tr>\n",
       "    <tr>\n",
       "      <th>2018-02-05</th>\n",
       "      <td>0.891175</td>\n",
       "      <td>0.897244</td>\n",
       "      <td>0.841454</td>\n",
       "      <td>0.161611</td>\n",
       "    </tr>\n",
       "    <tr>\n",
       "      <th>2018-02-06</th>\n",
       "      <td>0.808203</td>\n",
       "      <td>0.863066</td>\n",
       "      <td>0.808169</td>\n",
       "      <td>0.146320</td>\n",
       "    </tr>\n",
       "  </tbody>\n",
       "</table>\n",
       "</div>"
      ],
      "text/plain": [
       "                open      high       low    volume\n",
       "date                                              \n",
       "2018-01-31  0.994782  0.985542  0.985107  0.056576\n",
       "2018-02-01  0.985044  0.986940  0.981695  0.139433\n",
       "2018-02-02  0.924561  0.917434  0.909233  0.237400\n",
       "2018-02-05  0.891175  0.897244  0.841454  0.161611\n",
       "2018-02-06  0.808203  0.863066  0.808169  0.146320"
      ]
     },
     "metadata": {},
     "output_type": "display_data"
    },
    {
     "data": {
      "text/html": [
       "<div>\n",
       "<style scoped>\n",
       "    .dataframe tbody tr th:only-of-type {\n",
       "        vertical-align: middle;\n",
       "    }\n",
       "\n",
       "    .dataframe tbody tr th {\n",
       "        vertical-align: top;\n",
       "    }\n",
       "\n",
       "    .dataframe thead th {\n",
       "        text-align: right;\n",
       "    }\n",
       "</style>\n",
       "<table border=\"1\" class=\"dataframe\">\n",
       "  <thead>\n",
       "    <tr style=\"text-align: right;\">\n",
       "      <th></th>\n",
       "      <th>close</th>\n",
       "    </tr>\n",
       "    <tr>\n",
       "      <th>date</th>\n",
       "      <th></th>\n",
       "    </tr>\n",
       "  </thead>\n",
       "  <tbody>\n",
       "    <tr>\n",
       "      <th>2018-01-31</th>\n",
       "      <td>1181.59</td>\n",
       "    </tr>\n",
       "    <tr>\n",
       "      <th>2018-02-01</th>\n",
       "      <td>1119.20</td>\n",
       "    </tr>\n",
       "    <tr>\n",
       "      <th>2018-02-02</th>\n",
       "      <td>1062.39</td>\n",
       "    </tr>\n",
       "    <tr>\n",
       "      <th>2018-02-05</th>\n",
       "      <td>1084.43</td>\n",
       "    </tr>\n",
       "    <tr>\n",
       "      <th>2018-02-06</th>\n",
       "      <td>1055.41</td>\n",
       "    </tr>\n",
       "  </tbody>\n",
       "</table>\n",
       "</div>"
      ],
      "text/plain": [
       "              close\n",
       "date               \n",
       "2018-01-31  1181.59\n",
       "2018-02-01  1119.20\n",
       "2018-02-02  1062.39\n",
       "2018-02-05  1084.43\n",
       "2018-02-06  1055.41"
      ]
     },
     "metadata": {},
     "output_type": "display_data"
    }
   ],
   "source": [
    "validation_X = feature_minmax_transform[-100:-1]\n",
    "feature_minmax_transform = feature_minmax_transform[:-100]\n",
    "display(validation_X.tail())\n",
    "display(validation_y.tail())"
   ]
  },
  {
   "cell_type": "code",
   "execution_count": 14,
   "id": "d957aa42",
   "metadata": {},
   "outputs": [
    {
     "name": "stdout",
     "output_type": "stream",
     "text": [
      "Shape of features :  (1159, 4)\n",
      "Shape of target :  (1159, 1)\n"
     ]
    },
    {
     "data": {
      "text/html": [
       "<div>\n",
       "<style scoped>\n",
       "    .dataframe tbody tr th:only-of-type {\n",
       "        vertical-align: middle;\n",
       "    }\n",
       "\n",
       "    .dataframe tbody tr th {\n",
       "        vertical-align: top;\n",
       "    }\n",
       "\n",
       "    .dataframe thead th {\n",
       "        text-align: right;\n",
       "    }\n",
       "</style>\n",
       "<table border=\"1\" class=\"dataframe\">\n",
       "  <thead>\n",
       "    <tr style=\"text-align: right;\">\n",
       "      <th></th>\n",
       "      <th>close</th>\n",
       "    </tr>\n",
       "    <tr>\n",
       "      <th>date</th>\n",
       "      <th></th>\n",
       "    </tr>\n",
       "  </thead>\n",
       "  <tbody>\n",
       "    <tr>\n",
       "      <th>2017-09-08</th>\n",
       "      <td>943.29</td>\n",
       "    </tr>\n",
       "    <tr>\n",
       "      <th>2017-09-11</th>\n",
       "      <td>946.65</td>\n",
       "    </tr>\n",
       "    <tr>\n",
       "      <th>2017-09-12</th>\n",
       "      <td>950.44</td>\n",
       "    </tr>\n",
       "    <tr>\n",
       "      <th>2017-09-13</th>\n",
       "      <td>940.13</td>\n",
       "    </tr>\n",
       "    <tr>\n",
       "      <th>2017-09-14</th>\n",
       "      <td>935.29</td>\n",
       "    </tr>\n",
       "  </tbody>\n",
       "</table>\n",
       "</div>"
      ],
      "text/plain": [
       "             close\n",
       "date              \n",
       "2017-09-08  943.29\n",
       "2017-09-11  946.65\n",
       "2017-09-12  950.44\n",
       "2017-09-13  940.13\n",
       "2017-09-14  935.29"
      ]
     },
     "metadata": {},
     "output_type": "display_data"
    }
   ],
   "source": [
    "print('Shape of features : ', feature_minmax_transform.shape)\n",
    "print('Shape of target : ', target.shape)\n",
    "display(target.tail())"
   ]
  },
  {
   "cell_type": "markdown",
   "id": "cf33575d",
   "metadata": {},
   "source": [
    "# Splitting into training and testing sets"
   ]
  },
  {
   "cell_type": "code",
   "execution_count": 15,
   "id": "02824a63",
   "metadata": {},
   "outputs": [],
   "source": [
    "ts_split= TimeSeriesSplit(n_splits=10)\n",
    "for train_index, test_index in ts_split.split(feature_minmax_transform):\n",
    "        X_train, X_test = feature_minmax_transform[:len(train_index)], feature_minmax_transform[len(train_index): (len(train_index)+len(test_index))]\n",
    "        y_train, y_test = target[:len(train_index)].values.ravel(), target[len(train_index): (len(train_index)+len(test_index))].values.ravel()"
   ]
  },
  {
   "cell_type": "code",
   "execution_count": 16,
   "id": "61f893cc",
   "metadata": {},
   "outputs": [
    {
     "data": {
      "text/plain": [
       "(1054, 4)"
      ]
     },
     "execution_count": 16,
     "metadata": {},
     "output_type": "execute_result"
    }
   ],
   "source": [
    "X_train.shape"
   ]
  },
  {
   "cell_type": "code",
   "execution_count": 17,
   "id": "17cf135e",
   "metadata": {},
   "outputs": [
    {
     "data": {
      "text/html": [
       "<div>\n",
       "<style scoped>\n",
       "    .dataframe tbody tr th:only-of-type {\n",
       "        vertical-align: middle;\n",
       "    }\n",
       "\n",
       "    .dataframe tbody tr th {\n",
       "        vertical-align: top;\n",
       "    }\n",
       "\n",
       "    .dataframe thead th {\n",
       "        text-align: right;\n",
       "    }\n",
       "</style>\n",
       "<table border=\"1\" class=\"dataframe\">\n",
       "  <thead>\n",
       "    <tr style=\"text-align: right;\">\n",
       "      <th></th>\n",
       "      <th>open</th>\n",
       "      <th>high</th>\n",
       "      <th>low</th>\n",
       "      <th>volume</th>\n",
       "    </tr>\n",
       "    <tr>\n",
       "      <th>date</th>\n",
       "      <th></th>\n",
       "      <th></th>\n",
       "      <th></th>\n",
       "      <th></th>\n",
       "    </tr>\n",
       "  </thead>\n",
       "  <tbody>\n",
       "    <tr>\n",
       "      <th>2013-02-08</th>\n",
       "      <td>0.006837</td>\n",
       "      <td>0.004411</td>\n",
       "      <td>0.011405</td>\n",
       "      <td>0.243547</td>\n",
       "    </tr>\n",
       "    <tr>\n",
       "      <th>2013-02-11</th>\n",
       "      <td>0.005759</td>\n",
       "      <td>0.002137</td>\n",
       "      <td>0.007784</td>\n",
       "      <td>0.168388</td>\n",
       "    </tr>\n",
       "    <tr>\n",
       "      <th>2013-02-12</th>\n",
       "      <td>0.007847</td>\n",
       "      <td>0.005173</td>\n",
       "      <td>0.011287</td>\n",
       "      <td>0.141133</td>\n",
       "    </tr>\n",
       "    <tr>\n",
       "      <th>2013-02-13</th>\n",
       "      <td>0.006837</td>\n",
       "      <td>0.003593</td>\n",
       "      <td>0.011661</td>\n",
       "      <td>0.082779</td>\n",
       "    </tr>\n",
       "    <tr>\n",
       "      <th>2013-02-14</th>\n",
       "      <td>0.006588</td>\n",
       "      <td>0.005694</td>\n",
       "      <td>0.010290</td>\n",
       "      <td>0.130207</td>\n",
       "    </tr>\n",
       "    <tr>\n",
       "      <th>...</th>\n",
       "      <td>...</td>\n",
       "      <td>...</td>\n",
       "      <td>...</td>\n",
       "      <td>...</td>\n",
       "    </tr>\n",
       "    <tr>\n",
       "      <th>2017-04-10</th>\n",
       "      <td>0.568562</td>\n",
       "      <td>0.565180</td>\n",
       "      <td>0.572542</td>\n",
       "      <td>0.023208</td>\n",
       "    </tr>\n",
       "    <tr>\n",
       "      <th>2017-04-11</th>\n",
       "      <td>0.568761</td>\n",
       "      <td>0.562572</td>\n",
       "      <td>0.564834</td>\n",
       "      <td>0.020032</td>\n",
       "    </tr>\n",
       "    <tr>\n",
       "      <th>2017-04-12</th>\n",
       "      <td>0.564727</td>\n",
       "      <td>0.561445</td>\n",
       "      <td>0.568557</td>\n",
       "      <td>0.027167</td>\n",
       "    </tr>\n",
       "    <tr>\n",
       "      <th>2017-04-13</th>\n",
       "      <td>0.567939</td>\n",
       "      <td>0.561458</td>\n",
       "      <td>0.568881</td>\n",
       "      <td>0.024421</td>\n",
       "    </tr>\n",
       "    <tr>\n",
       "      <th>2017-04-17</th>\n",
       "      <td>0.568363</td>\n",
       "      <td>0.576201</td>\n",
       "      <td>0.572841</td>\n",
       "      <td>0.023337</td>\n",
       "    </tr>\n",
       "  </tbody>\n",
       "</table>\n",
       "<p>1054 rows × 4 columns</p>\n",
       "</div>"
      ],
      "text/plain": [
       "                open      high       low    volume\n",
       "date                                              \n",
       "2013-02-08  0.006837  0.004411  0.011405  0.243547\n",
       "2013-02-11  0.005759  0.002137  0.007784  0.168388\n",
       "2013-02-12  0.007847  0.005173  0.011287  0.141133\n",
       "2013-02-13  0.006837  0.003593  0.011661  0.082779\n",
       "2013-02-14  0.006588  0.005694  0.010290  0.130207\n",
       "...              ...       ...       ...       ...\n",
       "2017-04-10  0.568562  0.565180  0.572542  0.023208\n",
       "2017-04-11  0.568761  0.562572  0.564834  0.020032\n",
       "2017-04-12  0.564727  0.561445  0.568557  0.027167\n",
       "2017-04-13  0.567939  0.561458  0.568881  0.024421\n",
       "2017-04-17  0.568363  0.576201  0.572841  0.023337\n",
       "\n",
       "[1054 rows x 4 columns]"
      ]
     },
     "execution_count": 17,
     "metadata": {},
     "output_type": "execute_result"
    }
   ],
   "source": [
    "X_train"
   ]
  },
  {
   "cell_type": "code",
   "execution_count": 18,
   "id": "419781a1",
   "metadata": {},
   "outputs": [
    {
     "data": {
      "text/plain": [
       "(1054,)"
      ]
     },
     "execution_count": 18,
     "metadata": {},
     "output_type": "execute_result"
    }
   ],
   "source": [
    "y_train.shape"
   ]
  },
  {
   "cell_type": "code",
   "execution_count": 19,
   "id": "627d37fd",
   "metadata": {},
   "outputs": [
    {
     "data": {
      "text/plain": [
       "array([391.6012, 390.7403, 391.8214, ..., 840.18  , 855.13  , 853.99  ])"
      ]
     },
     "execution_count": 19,
     "metadata": {},
     "output_type": "execute_result"
    }
   ],
   "source": [
    "y_train"
   ]
  },
  {
   "cell_type": "code",
   "execution_count": 20,
   "id": "dd0c8c44",
   "metadata": {},
   "outputs": [
    {
     "data": {
      "text/plain": [
       "(105, 4)"
      ]
     },
     "execution_count": 20,
     "metadata": {},
     "output_type": "execute_result"
    }
   ],
   "source": [
    "X_test.shape"
   ]
  },
  {
   "cell_type": "code",
   "execution_count": 21,
   "id": "54b84df0",
   "metadata": {},
   "outputs": [
    {
     "data": {
      "text/html": [
       "<div>\n",
       "<style scoped>\n",
       "    .dataframe tbody tr th:only-of-type {\n",
       "        vertical-align: middle;\n",
       "    }\n",
       "\n",
       "    .dataframe tbody tr th {\n",
       "        vertical-align: top;\n",
       "    }\n",
       "\n",
       "    .dataframe thead th {\n",
       "        text-align: right;\n",
       "    }\n",
       "</style>\n",
       "<table border=\"1\" class=\"dataframe\">\n",
       "  <thead>\n",
       "    <tr style=\"text-align: right;\">\n",
       "      <th></th>\n",
       "      <th>open</th>\n",
       "      <th>high</th>\n",
       "      <th>low</th>\n",
       "      <th>volume</th>\n",
       "    </tr>\n",
       "    <tr>\n",
       "      <th>date</th>\n",
       "      <th></th>\n",
       "      <th></th>\n",
       "      <th></th>\n",
       "      <th></th>\n",
       "    </tr>\n",
       "  </thead>\n",
       "  <tbody>\n",
       "    <tr>\n",
       "      <th>2017-04-18</th>\n",
       "      <td>0.582260</td>\n",
       "      <td>0.578367</td>\n",
       "      <td>0.585567</td>\n",
       "      <td>0.018346</td>\n",
       "    </tr>\n",
       "    <tr>\n",
       "      <th>2017-04-19</th>\n",
       "      <td>0.588293</td>\n",
       "      <td>0.581845</td>\n",
       "      <td>0.588403</td>\n",
       "      <td>0.024717</td>\n",
       "    </tr>\n",
       "    <tr>\n",
       "      <th>2017-04-20</th>\n",
       "      <td>0.591226</td>\n",
       "      <td>0.586463</td>\n",
       "      <td>0.593350</td>\n",
       "      <td>0.029513</td>\n",
       "    </tr>\n",
       "    <tr>\n",
       "      <th>2017-04-21</th>\n",
       "      <td>0.592322</td>\n",
       "      <td>0.584618</td>\n",
       "      <td>0.593636</td>\n",
       "      <td>0.028807</td>\n",
       "    </tr>\n",
       "    <tr>\n",
       "      <th>2017-04-24</th>\n",
       "      <td>0.602060</td>\n",
       "      <td>0.606306</td>\n",
       "      <td>0.604072</td>\n",
       "      <td>0.051951</td>\n",
       "    </tr>\n",
       "    <tr>\n",
       "      <th>...</th>\n",
       "      <td>...</td>\n",
       "      <td>...</td>\n",
       "      <td>...</td>\n",
       "      <td>...</td>\n",
       "    </tr>\n",
       "    <tr>\n",
       "      <th>2017-09-08</th>\n",
       "      <td>0.703251</td>\n",
       "      <td>0.693873</td>\n",
       "      <td>0.696096</td>\n",
       "      <td>0.021162</td>\n",
       "    </tr>\n",
       "    <tr>\n",
       "      <th>2017-09-11</th>\n",
       "      <td>0.700138</td>\n",
       "      <td>0.696324</td>\n",
       "      <td>0.697329</td>\n",
       "      <td>0.036077</td>\n",
       "    </tr>\n",
       "    <tr>\n",
       "      <th>2017-09-12</th>\n",
       "      <td>0.699789</td>\n",
       "      <td>0.690636</td>\n",
       "      <td>0.692970</td>\n",
       "      <td>0.033753</td>\n",
       "    </tr>\n",
       "    <tr>\n",
       "      <th>2017-09-13</th>\n",
       "      <td>0.698021</td>\n",
       "      <td>0.696535</td>\n",
       "      <td>0.701986</td>\n",
       "      <td>0.025382</td>\n",
       "    </tr>\n",
       "    <tr>\n",
       "      <th>2017-09-14</th>\n",
       "      <td>0.698643</td>\n",
       "      <td>0.690568</td>\n",
       "      <td>0.694036</td>\n",
       "      <td>0.040056</td>\n",
       "    </tr>\n",
       "  </tbody>\n",
       "</table>\n",
       "<p>105 rows × 4 columns</p>\n",
       "</div>"
      ],
      "text/plain": [
       "                open      high       low    volume\n",
       "date                                              \n",
       "2017-04-18  0.582260  0.578367  0.585567  0.018346\n",
       "2017-04-19  0.588293  0.581845  0.588403  0.024717\n",
       "2017-04-20  0.591226  0.586463  0.593350  0.029513\n",
       "2017-04-21  0.592322  0.584618  0.593636  0.028807\n",
       "2017-04-24  0.602060  0.606306  0.604072  0.051951\n",
       "...              ...       ...       ...       ...\n",
       "2017-09-08  0.703251  0.693873  0.696096  0.021162\n",
       "2017-09-11  0.700138  0.696324  0.697329  0.036077\n",
       "2017-09-12  0.699789  0.690636  0.692970  0.033753\n",
       "2017-09-13  0.698021  0.696535  0.701986  0.025382\n",
       "2017-09-14  0.698643  0.690568  0.694036  0.040056\n",
       "\n",
       "[105 rows x 4 columns]"
      ]
     },
     "execution_count": 21,
     "metadata": {},
     "output_type": "execute_result"
    }
   ],
   "source": [
    "X_test"
   ]
  },
  {
   "cell_type": "code",
   "execution_count": 22,
   "id": "4a649f07",
   "metadata": {},
   "outputs": [
    {
     "data": {
      "text/plain": [
       "(105,)"
      ]
     },
     "execution_count": 22,
     "metadata": {},
     "output_type": "execute_result"
    }
   ],
   "source": [
    "y_test.shape"
   ]
  },
  {
   "cell_type": "code",
   "execution_count": 23,
   "id": "03392525",
   "metadata": {},
   "outputs": [
    {
     "data": {
      "text/plain": [
       "array([ 856.51,  860.08,  858.95,  878.93,  888.84,  889.14,  891.44,\n",
       "        924.52,  932.82,  937.09,  948.45,  954.72,  950.28,  958.69,\n",
       "        956.71,  954.84,  955.89,  955.14,  959.22,  964.61,  942.17,\n",
       "        950.5 ,  954.65,  964.07,  970.55,  977.61,  991.86,  993.27,\n",
       "        996.17,  987.09,  988.29,  996.12, 1003.88,  996.68, 1001.59,\n",
       "       1004.28,  970.12,  961.81,  970.5 ,  967.93,  960.18,  958.62,\n",
       "        975.22,  968.99,  978.59,  976.62,  986.09,  972.09,  948.09,\n",
       "        961.01,  937.82,  929.68,  919.46,  932.26,  927.69,  940.81,\n",
       "        951.  ,  953.53,  967.66,  968.85,  976.91,  975.96,  986.95,\n",
       "        992.77,  992.19,  993.84,  998.31,  969.03,  965.31,  952.51,\n",
       "        958.33,  945.5 ,  946.56,  947.64,  940.3 ,  945.79,  945.75,\n",
       "        944.19,  940.08,  923.59,  930.09,  938.93,  938.08,  944.27,\n",
       "        927.66,  926.18,  920.87,  940.4 ,  942.58,  936.89,  930.5 ,\n",
       "        928.13,  935.75,  943.63,  955.24,  951.99,  941.48,  942.02,\n",
       "        949.89,  941.41,  943.29,  946.65,  950.44,  940.13,  935.29])"
      ]
     },
     "execution_count": 23,
     "metadata": {},
     "output_type": "execute_result"
    }
   ],
   "source": [
    "y_test"
   ]
  },
  {
   "cell_type": "markdown",
   "id": "dbbf2399",
   "metadata": {},
   "source": [
    "# Processing the data"
   ]
  },
  {
   "cell_type": "code",
   "execution_count": 24,
   "id": "c294def2",
   "metadata": {},
   "outputs": [],
   "source": [
    "X_train =np.array(X_train)\n",
    "X_test =np.array(X_test)\n",
    "\n",
    "X_tr_t = X_train.reshape(X_train.shape[0], 1, X_train.shape[1])\n",
    "X_tst_t = X_test.reshape(X_test.shape[0], 1, X_test.shape[1])"
   ]
  },
  {
   "cell_type": "markdown",
   "id": "e83619af",
   "metadata": {},
   "source": [
    "# Model making"
   ]
  },
  {
   "cell_type": "code",
   "execution_count": 31,
   "id": "1296ca60",
   "metadata": {},
   "outputs": [
    {
     "name": "stdout",
     "output_type": "stream",
     "text": [
      "Epoch 1/150\n",
      "132/132 [==============================] - 0s 3ms/step - loss: 402855.0312 - accuracy: 0.0000e+00\n",
      "Epoch 2/150\n",
      "132/132 [==============================] - 0s 2ms/step - loss: 393305.2812 - accuracy: 0.0000e+00\n",
      "Epoch 3/150\n",
      "132/132 [==============================] - 0s 2ms/step - loss: 334498.4375 - accuracy: 0.0000e+00\n",
      "Epoch 4/150\n",
      "132/132 [==============================] - 0s 2ms/step - loss: 180743.8125 - accuracy: 0.0000e+00\n",
      "Epoch 5/150\n",
      "132/132 [==============================] - 0s 2ms/step - loss: 35377.5273 - accuracy: 0.0000e+00\n",
      "Epoch 6/150\n",
      "132/132 [==============================] - 0s 2ms/step - loss: 4237.1919 - accuracy: 0.0000e+00\n",
      "Epoch 7/150\n",
      "132/132 [==============================] - 0s 2ms/step - loss: 2840.3301 - accuracy: 0.0000e+00\n",
      "Epoch 8/150\n",
      "132/132 [==============================] - 0s 2ms/step - loss: 2595.5117 - accuracy: 0.0000e+00\n",
      "Epoch 9/150\n",
      "132/132 [==============================] - 0s 2ms/step - loss: 2382.3354 - accuracy: 0.0000e+00\n",
      "Epoch 10/150\n",
      "132/132 [==============================] - 0s 2ms/step - loss: 2181.2832 - accuracy: 0.0000e+00\n",
      "Epoch 11/150\n",
      "132/132 [==============================] - 0s 2ms/step - loss: 1994.7239 - accuracy: 0.0000e+00\n",
      "Epoch 12/150\n",
      "132/132 [==============================] - 0s 2ms/step - loss: 1823.9956 - accuracy: 0.0000e+00\n",
      "Epoch 13/150\n",
      "132/132 [==============================] - 0s 3ms/step - loss: 1669.4823 - accuracy: 0.0000e+00\n",
      "Epoch 14/150\n",
      "132/132 [==============================] - 0s 2ms/step - loss: 1530.8486 - accuracy: 0.0000e+00\n",
      "Epoch 15/150\n",
      "132/132 [==============================] - 0s 2ms/step - loss: 1407.2458 - accuracy: 0.0000e+00\n",
      "Epoch 16/150\n",
      "132/132 [==============================] - 0s 3ms/step - loss: 1297.4910 - accuracy: 0.0000e+00\n",
      "Epoch 17/150\n",
      "132/132 [==============================] - 0s 3ms/step - loss: 1200.1959 - accuracy: 0.0000e+00\n",
      "Epoch 18/150\n",
      "132/132 [==============================] - 0s 2ms/step - loss: 1113.8997 - accuracy: 0.0000e+00\n",
      "Epoch 19/150\n",
      "132/132 [==============================] - 0s 2ms/step - loss: 1037.1429 - accuracy: 0.0000e+00\n",
      "Epoch 20/150\n",
      "132/132 [==============================] - 0s 3ms/step - loss: 968.5513 - accuracy: 0.0000e+00\n",
      "Epoch 21/150\n",
      "132/132 [==============================] - 0s 3ms/step - loss: 906.8628 - accuracy: 0.0000e+00\n",
      "Epoch 22/150\n",
      "132/132 [==============================] - 0s 3ms/step - loss: 850.9663 - accuracy: 0.0000e+00\n",
      "Epoch 23/150\n",
      "132/132 [==============================] - 0s 2ms/step - loss: 799.9060 - accuracy: 0.0000e+00\n",
      "Epoch 24/150\n",
      "132/132 [==============================] - 0s 2ms/step - loss: 752.8867 - accuracy: 0.0000e+00\n",
      "Epoch 25/150\n",
      "132/132 [==============================] - 0s 3ms/step - loss: 709.2598 - accuracy: 0.0000e+00\n",
      "Epoch 26/150\n",
      "132/132 [==============================] - 0s 2ms/step - loss: 668.5053 - accuracy: 0.0000e+00\n",
      "Epoch 27/150\n",
      "132/132 [==============================] - 0s 2ms/step - loss: 630.2184 - accuracy: 0.0000e+00\n",
      "Epoch 28/150\n",
      "132/132 [==============================] - 0s 3ms/step - loss: 594.0886 - accuracy: 0.0000e+00\n",
      "Epoch 29/150\n",
      "132/132 [==============================] - 0s 3ms/step - loss: 559.8801 - accuracy: 0.0000e+00\n",
      "Epoch 30/150\n",
      "132/132 [==============================] - 0s 2ms/step - loss: 527.4161 - accuracy: 0.0000e+00\n",
      "Epoch 31/150\n",
      "132/132 [==============================] - 0s 2ms/step - loss: 496.5679 - accuracy: 0.0000e+00\n",
      "Epoch 32/150\n",
      "132/132 [==============================] - 0s 3ms/step - loss: 467.2373 - accuracy: 0.0000e+00\n",
      "Epoch 33/150\n",
      "132/132 [==============================] - 0s 3ms/step - loss: 439.3535 - accuracy: 0.0000e+00\n",
      "Epoch 34/150\n",
      "132/132 [==============================] - 0s 3ms/step - loss: 412.8608 - accuracy: 0.0000e+00\n",
      "Epoch 35/150\n",
      "132/132 [==============================] - 0s 2ms/step - loss: 387.7170 - accuracy: 0.0000e+00\n",
      "Epoch 36/150\n",
      "132/132 [==============================] - 0s 3ms/step - loss: 363.8880 - accuracy: 0.0000e+00\n",
      "Epoch 37/150\n",
      "132/132 [==============================] - 0s 3ms/step - loss: 341.3452 - accuracy: 0.0000e+00\n",
      "Epoch 38/150\n",
      "132/132 [==============================] - 0s 3ms/step - loss: 320.0627 - accuracy: 0.0000e+00\n",
      "Epoch 39/150\n",
      "132/132 [==============================] - 0s 3ms/step - loss: 300.0172 - accuracy: 0.0000e+00\n",
      "Epoch 40/150\n",
      "132/132 [==============================] - 0s 3ms/step - loss: 281.1867 - accuracy: 0.0000e+00\n",
      "Epoch 41/150\n",
      "132/132 [==============================] - 0s 3ms/step - loss: 263.5484 - accuracy: 0.0000e+00\n",
      "Epoch 42/150\n",
      "132/132 [==============================] - 0s 2ms/step - loss: 247.0800 - accuracy: 0.0000e+00\n",
      "Epoch 43/150\n",
      "132/132 [==============================] - 0s 3ms/step - loss: 231.7572 - accuracy: 0.0000e+00\n",
      "Epoch 44/150\n",
      "132/132 [==============================] - 0s 2ms/step - loss: 217.5531 - accuracy: 0.0000e+00\n",
      "Epoch 45/150\n",
      "132/132 [==============================] - 0s 2ms/step - loss: 204.4378 - accuracy: 0.0000e+00\n",
      "Epoch 46/150\n",
      "132/132 [==============================] - 0s 3ms/step - loss: 192.3784 - accuracy: 0.0000e+00\n",
      "Epoch 47/150\n",
      "132/132 [==============================] - 0s 3ms/step - loss: 181.3374 - accuracy: 0.0000e+00\n",
      "Epoch 48/150\n",
      "132/132 [==============================] - 0s 3ms/step - loss: 171.2740 - accuracy: 0.0000e+00\n",
      "Epoch 49/150\n",
      "132/132 [==============================] - 0s 3ms/step - loss: 162.1431 - accuracy: 0.0000e+00: 0s - loss: 79.7792 - accurac\n",
      "Epoch 50/150\n",
      "132/132 [==============================] - 0s 3ms/step - loss: 153.8966 - accuracy: 0.0000e+00\n",
      "Epoch 51/150\n",
      "132/132 [==============================] - 0s 4ms/step - loss: 146.4849 - accuracy: 0.0000e+00\n",
      "Epoch 52/150\n",
      "132/132 [==============================] - 0s 3ms/step - loss: 139.8564 - accuracy: 0.0000e+00\n",
      "Epoch 53/150\n",
      "132/132 [==============================] - 0s 3ms/step - loss: 133.9590 - accuracy: 0.0000e+00\n",
      "Epoch 54/150\n",
      "132/132 [==============================] - 0s 3ms/step - loss: 128.7416 - accuracy: 0.0000e+00\n",
      "Epoch 55/150\n",
      "132/132 [==============================] - 0s 3ms/step - loss: 124.1527 - accuracy: 0.0000e+00\n",
      "Epoch 56/150\n",
      "132/132 [==============================] - 0s 3ms/step - loss: 120.1424 - accuracy: 0.0000e+00\n",
      "Epoch 57/150\n",
      "132/132 [==============================] - 0s 2ms/step - loss: 116.6620 - accuracy: 0.0000e+00\n",
      "Epoch 58/150\n",
      "132/132 [==============================] - 0s 2ms/step - loss: 113.6643 - accuracy: 0.0000e+00\n",
      "Epoch 59/150\n",
      "132/132 [==============================] - 0s 3ms/step - loss: 111.1030 - accuracy: 0.0000e+00\n",
      "Epoch 60/150\n",
      "132/132 [==============================] - 0s 3ms/step - loss: 108.9338 - accuracy: 0.0000e+00\n",
      "Epoch 61/150\n",
      "132/132 [==============================] - 0s 3ms/step - loss: 107.1141 - accuracy: 0.0000e+00\n",
      "Epoch 62/150\n",
      "132/132 [==============================] - 0s 3ms/step - loss: 105.6027 - accuracy: 0.0000e+00\n",
      "Epoch 63/150\n",
      "132/132 [==============================] - 0s 3ms/step - loss: 104.3613 - accuracy: 0.0000e+00\n",
      "Epoch 64/150\n",
      "132/132 [==============================] - 0s 3ms/step - loss: 103.3529 - accuracy: 0.0000e+00\n",
      "Epoch 65/150\n",
      "132/132 [==============================] - 0s 3ms/step - loss: 102.5438 - accuracy: 0.0000e+00\n",
      "Epoch 66/150\n",
      "132/132 [==============================] - 0s 3ms/step - loss: 101.9031 - accuracy: 0.0000e+00\n",
      "Epoch 67/150\n",
      "132/132 [==============================] - 0s 3ms/step - loss: 101.4028 - accuracy: 0.0000e+00\n",
      "Epoch 68/150\n",
      "132/132 [==============================] - 0s 3ms/step - loss: 101.0181 - accuracy: 0.0000e+00\n",
      "Epoch 69/150\n",
      "132/132 [==============================] - 0s 2ms/step - loss: 100.7272 - accuracy: 0.0000e+00\n",
      "Epoch 70/150\n",
      "132/132 [==============================] - 0s 3ms/step - loss: 100.5115 - accuracy: 0.0000e+00\n",
      "Epoch 71/150\n",
      "132/132 [==============================] - 0s 3ms/step - loss: 100.3554 - accuracy: 0.0000e+00\n",
      "Epoch 72/150\n",
      "132/132 [==============================] - 0s 3ms/step - loss: 100.2456 - accuracy: 0.0000e+00\n",
      "Epoch 73/150\n",
      "132/132 [==============================] - 0s 3ms/step - loss: 100.1710 - accuracy: 0.0000e+00\n",
      "Epoch 74/150\n",
      "132/132 [==============================] - 0s 3ms/step - loss: 100.1227 - accuracy: 0.0000e+00\n",
      "Epoch 75/150\n",
      "132/132 [==============================] - 0s 3ms/step - loss: 100.0938 - accuracy: 0.0000e+00\n",
      "Epoch 76/150\n",
      "132/132 [==============================] - 0s 3ms/step - loss: 100.0784 - accuracy: 0.0000e+00\n",
      "Epoch 77/150\n",
      "132/132 [==============================] - 0s 2ms/step - loss: 100.0719 - accuracy: 0.0000e+00\n",
      "Epoch 78/150\n",
      "132/132 [==============================] - 0s 2ms/step - loss: 100.0711 - accuracy: 0.0000e+00\n",
      "Epoch 79/150\n",
      "132/132 [==============================] - 0s 3ms/step - loss: 100.0735 - accuracy: 0.0000e+00\n",
      "Epoch 80/150\n",
      "132/132 [==============================] - 0s 2ms/step - loss: 100.0770 - accuracy: 0.0000e+00\n",
      "Epoch 81/150\n",
      "132/132 [==============================] - 0s 3ms/step - loss: 100.0803 - accuracy: 0.0000e+00\n",
      "Epoch 82/150\n",
      "132/132 [==============================] - 0s 2ms/step - loss: 100.0826 - accuracy: 0.0000e+00\n",
      "Epoch 83/150\n",
      "132/132 [==============================] - 0s 3ms/step - loss: 100.0832 - accuracy: 0.0000e+00\n",
      "Epoch 00083: early stopping\n"
     ]
    }
   ],
   "source": [
    "from tensorflow.keras.models import Sequential\n",
    "from tensorflow.keras.layers import Dense\n",
    "import tensorflow.keras.backend as K\n",
    "from tensorflow.keras.callbacks import EarlyStopping\n",
    "from tensorflow.keras.optimizers import Adam\n",
    "from tensorflow.keras.models import load_model\n",
    "from tensorflow.keras.layers import LSTM\n",
    "K.clear_session()\n",
    "model_lstm = Sequential()\n",
    "model_lstm.add(LSTM(16,input_shape = (1,X_train.shape[1]), activation='relu', return_sequences=True))\n",
    "model_lstm.add(Dense(12, input_dim=8, activation='relu'))\n",
    "model_lstm.add(Dense(8, activation='relu'))\n",
    "model_lstm.add(Dense(1))\n",
    "model_lstm.compile(loss='mean_squared_error', optimizer='adam', metrics=['accuracy'])\n",
    "early_stop = EarlyStopping(monitor='loss', patience=5, verbose=1)\n",
    "history_model_lstm = model_lstm.fit(X_tr_t, y_train, epochs=150, batch_size=8, verbose=1, shuffle=False,callbacks=[early_stop])"
   ]
  },
  {
   "cell_type": "markdown",
   "id": "89376c48",
   "metadata": {},
   "source": [
    "# Evaluation of lstm model"
   ]
  },
  {
   "cell_type": "code",
   "execution_count": 34,
   "id": "86d50864",
   "metadata": {},
   "outputs": [
    {
     "ename": "ValueError",
     "evalue": "Found array with dim 3. Estimator expected <= 2.",
     "output_type": "error",
     "traceback": [
      "\u001b[1;31m---------------------------------------------------------------------------\u001b[0m",
      "\u001b[1;31mValueError\u001b[0m                                Traceback (most recent call last)",
      "\u001b[1;32m<ipython-input-34-469c64f65084>\u001b[0m in \u001b[0;36m<module>\u001b[1;34m\u001b[0m\n\u001b[0;32m      1\u001b[0m \u001b[0my_pred_test_lstm\u001b[0m \u001b[1;33m=\u001b[0m \u001b[0mmodel_lstm\u001b[0m\u001b[1;33m.\u001b[0m\u001b[0mpredict\u001b[0m\u001b[1;33m(\u001b[0m\u001b[0mX_tst_t\u001b[0m\u001b[1;33m)\u001b[0m\u001b[1;33m\u001b[0m\u001b[1;33m\u001b[0m\u001b[0m\n\u001b[0;32m      2\u001b[0m \u001b[0my_train_pred_lstm\u001b[0m \u001b[1;33m=\u001b[0m \u001b[0mmodel_lstm\u001b[0m\u001b[1;33m.\u001b[0m\u001b[0mpredict\u001b[0m\u001b[1;33m(\u001b[0m\u001b[0mX_tr_t\u001b[0m\u001b[1;33m)\u001b[0m\u001b[1;33m\u001b[0m\u001b[1;33m\u001b[0m\u001b[0m\n\u001b[1;32m----> 3\u001b[1;33m \u001b[0mprint\u001b[0m\u001b[1;33m(\u001b[0m\u001b[1;34m\"The R2 score on the Train set is:\\t{:0.3f}\"\u001b[0m\u001b[1;33m.\u001b[0m\u001b[0mformat\u001b[0m\u001b[1;33m(\u001b[0m\u001b[0mr2_score\u001b[0m\u001b[1;33m(\u001b[0m\u001b[0my_train\u001b[0m\u001b[1;33m,\u001b[0m \u001b[0my_train_pred_lstm\u001b[0m\u001b[1;33m)\u001b[0m\u001b[1;33m)\u001b[0m\u001b[1;33m)\u001b[0m\u001b[1;33m\u001b[0m\u001b[1;33m\u001b[0m\u001b[0m\n\u001b[0m\u001b[0;32m      4\u001b[0m \u001b[0mr2_train\u001b[0m \u001b[1;33m=\u001b[0m \u001b[0mr2_score\u001b[0m\u001b[1;33m(\u001b[0m\u001b[0my_train\u001b[0m\u001b[1;33m,\u001b[0m \u001b[0my_train_pred_lstm\u001b[0m\u001b[1;33m)\u001b[0m\u001b[1;33m\u001b[0m\u001b[1;33m\u001b[0m\u001b[0m\n\u001b[0;32m      5\u001b[0m \u001b[1;33m\u001b[0m\u001b[0m\n",
      "\u001b[1;32m~\\anaconda3\\lib\\site-packages\\sklearn\\utils\\validation.py\u001b[0m in \u001b[0;36minner_f\u001b[1;34m(*args, **kwargs)\u001b[0m\n\u001b[0;32m     61\u001b[0m             \u001b[0mextra_args\u001b[0m \u001b[1;33m=\u001b[0m \u001b[0mlen\u001b[0m\u001b[1;33m(\u001b[0m\u001b[0margs\u001b[0m\u001b[1;33m)\u001b[0m \u001b[1;33m-\u001b[0m \u001b[0mlen\u001b[0m\u001b[1;33m(\u001b[0m\u001b[0mall_args\u001b[0m\u001b[1;33m)\u001b[0m\u001b[1;33m\u001b[0m\u001b[1;33m\u001b[0m\u001b[0m\n\u001b[0;32m     62\u001b[0m             \u001b[1;32mif\u001b[0m \u001b[0mextra_args\u001b[0m \u001b[1;33m<=\u001b[0m \u001b[1;36m0\u001b[0m\u001b[1;33m:\u001b[0m\u001b[1;33m\u001b[0m\u001b[1;33m\u001b[0m\u001b[0m\n\u001b[1;32m---> 63\u001b[1;33m                 \u001b[1;32mreturn\u001b[0m \u001b[0mf\u001b[0m\u001b[1;33m(\u001b[0m\u001b[1;33m*\u001b[0m\u001b[0margs\u001b[0m\u001b[1;33m,\u001b[0m \u001b[1;33m**\u001b[0m\u001b[0mkwargs\u001b[0m\u001b[1;33m)\u001b[0m\u001b[1;33m\u001b[0m\u001b[1;33m\u001b[0m\u001b[0m\n\u001b[0m\u001b[0;32m     64\u001b[0m \u001b[1;33m\u001b[0m\u001b[0m\n\u001b[0;32m     65\u001b[0m             \u001b[1;31m# extra_args > 0\u001b[0m\u001b[1;33m\u001b[0m\u001b[1;33m\u001b[0m\u001b[1;33m\u001b[0m\u001b[0m\n",
      "\u001b[1;32m~\\anaconda3\\lib\\site-packages\\sklearn\\metrics\\_regression.py\u001b[0m in \u001b[0;36mr2_score\u001b[1;34m(y_true, y_pred, sample_weight, multioutput)\u001b[0m\n\u001b[0;32m    674\u001b[0m     \u001b[1;33m-\u001b[0m\u001b[1;36m3.0\u001b[0m\u001b[1;33m\u001b[0m\u001b[1;33m\u001b[0m\u001b[0m\n\u001b[0;32m    675\u001b[0m     \"\"\"\n\u001b[1;32m--> 676\u001b[1;33m     y_type, y_true, y_pred, multioutput = _check_reg_targets(\n\u001b[0m\u001b[0;32m    677\u001b[0m         y_true, y_pred, multioutput)\n\u001b[0;32m    678\u001b[0m     \u001b[0mcheck_consistent_length\u001b[0m\u001b[1;33m(\u001b[0m\u001b[0my_true\u001b[0m\u001b[1;33m,\u001b[0m \u001b[0my_pred\u001b[0m\u001b[1;33m,\u001b[0m \u001b[0msample_weight\u001b[0m\u001b[1;33m)\u001b[0m\u001b[1;33m\u001b[0m\u001b[1;33m\u001b[0m\u001b[0m\n",
      "\u001b[1;32m~\\anaconda3\\lib\\site-packages\\sklearn\\metrics\\_regression.py\u001b[0m in \u001b[0;36m_check_reg_targets\u001b[1;34m(y_true, y_pred, multioutput, dtype)\u001b[0m\n\u001b[0;32m     88\u001b[0m     \u001b[0mcheck_consistent_length\u001b[0m\u001b[1;33m(\u001b[0m\u001b[0my_true\u001b[0m\u001b[1;33m,\u001b[0m \u001b[0my_pred\u001b[0m\u001b[1;33m)\u001b[0m\u001b[1;33m\u001b[0m\u001b[1;33m\u001b[0m\u001b[0m\n\u001b[0;32m     89\u001b[0m     \u001b[0my_true\u001b[0m \u001b[1;33m=\u001b[0m \u001b[0mcheck_array\u001b[0m\u001b[1;33m(\u001b[0m\u001b[0my_true\u001b[0m\u001b[1;33m,\u001b[0m \u001b[0mensure_2d\u001b[0m\u001b[1;33m=\u001b[0m\u001b[1;32mFalse\u001b[0m\u001b[1;33m,\u001b[0m \u001b[0mdtype\u001b[0m\u001b[1;33m=\u001b[0m\u001b[0mdtype\u001b[0m\u001b[1;33m)\u001b[0m\u001b[1;33m\u001b[0m\u001b[1;33m\u001b[0m\u001b[0m\n\u001b[1;32m---> 90\u001b[1;33m     \u001b[0my_pred\u001b[0m \u001b[1;33m=\u001b[0m \u001b[0mcheck_array\u001b[0m\u001b[1;33m(\u001b[0m\u001b[0my_pred\u001b[0m\u001b[1;33m,\u001b[0m \u001b[0mensure_2d\u001b[0m\u001b[1;33m=\u001b[0m\u001b[1;32mFalse\u001b[0m\u001b[1;33m,\u001b[0m \u001b[0mdtype\u001b[0m\u001b[1;33m=\u001b[0m\u001b[0mdtype\u001b[0m\u001b[1;33m)\u001b[0m\u001b[1;33m\u001b[0m\u001b[1;33m\u001b[0m\u001b[0m\n\u001b[0m\u001b[0;32m     91\u001b[0m \u001b[1;33m\u001b[0m\u001b[0m\n\u001b[0;32m     92\u001b[0m     \u001b[1;32mif\u001b[0m \u001b[0my_true\u001b[0m\u001b[1;33m.\u001b[0m\u001b[0mndim\u001b[0m \u001b[1;33m==\u001b[0m \u001b[1;36m1\u001b[0m\u001b[1;33m:\u001b[0m\u001b[1;33m\u001b[0m\u001b[1;33m\u001b[0m\u001b[0m\n",
      "\u001b[1;32m~\\anaconda3\\lib\\site-packages\\sklearn\\utils\\validation.py\u001b[0m in \u001b[0;36minner_f\u001b[1;34m(*args, **kwargs)\u001b[0m\n\u001b[0;32m     61\u001b[0m             \u001b[0mextra_args\u001b[0m \u001b[1;33m=\u001b[0m \u001b[0mlen\u001b[0m\u001b[1;33m(\u001b[0m\u001b[0margs\u001b[0m\u001b[1;33m)\u001b[0m \u001b[1;33m-\u001b[0m \u001b[0mlen\u001b[0m\u001b[1;33m(\u001b[0m\u001b[0mall_args\u001b[0m\u001b[1;33m)\u001b[0m\u001b[1;33m\u001b[0m\u001b[1;33m\u001b[0m\u001b[0m\n\u001b[0;32m     62\u001b[0m             \u001b[1;32mif\u001b[0m \u001b[0mextra_args\u001b[0m \u001b[1;33m<=\u001b[0m \u001b[1;36m0\u001b[0m\u001b[1;33m:\u001b[0m\u001b[1;33m\u001b[0m\u001b[1;33m\u001b[0m\u001b[0m\n\u001b[1;32m---> 63\u001b[1;33m                 \u001b[1;32mreturn\u001b[0m \u001b[0mf\u001b[0m\u001b[1;33m(\u001b[0m\u001b[1;33m*\u001b[0m\u001b[0margs\u001b[0m\u001b[1;33m,\u001b[0m \u001b[1;33m**\u001b[0m\u001b[0mkwargs\u001b[0m\u001b[1;33m)\u001b[0m\u001b[1;33m\u001b[0m\u001b[1;33m\u001b[0m\u001b[0m\n\u001b[0m\u001b[0;32m     64\u001b[0m \u001b[1;33m\u001b[0m\u001b[0m\n\u001b[0;32m     65\u001b[0m             \u001b[1;31m# extra_args > 0\u001b[0m\u001b[1;33m\u001b[0m\u001b[1;33m\u001b[0m\u001b[1;33m\u001b[0m\u001b[0m\n",
      "\u001b[1;32m~\\anaconda3\\lib\\site-packages\\sklearn\\utils\\validation.py\u001b[0m in \u001b[0;36mcheck_array\u001b[1;34m(array, accept_sparse, accept_large_sparse, dtype, order, copy, force_all_finite, ensure_2d, allow_nd, ensure_min_samples, ensure_min_features, estimator)\u001b[0m\n\u001b[0;32m    657\u001b[0m                     \"into decimal numbers with dtype='numeric'\") from e\n\u001b[0;32m    658\u001b[0m         \u001b[1;32mif\u001b[0m \u001b[1;32mnot\u001b[0m \u001b[0mallow_nd\u001b[0m \u001b[1;32mand\u001b[0m \u001b[0marray\u001b[0m\u001b[1;33m.\u001b[0m\u001b[0mndim\u001b[0m \u001b[1;33m>=\u001b[0m \u001b[1;36m3\u001b[0m\u001b[1;33m:\u001b[0m\u001b[1;33m\u001b[0m\u001b[1;33m\u001b[0m\u001b[0m\n\u001b[1;32m--> 659\u001b[1;33m             raise ValueError(\"Found array with dim %d. %s expected <= 2.\"\n\u001b[0m\u001b[0;32m    660\u001b[0m                              % (array.ndim, estimator_name))\n\u001b[0;32m    661\u001b[0m \u001b[1;33m\u001b[0m\u001b[0m\n",
      "\u001b[1;31mValueError\u001b[0m: Found array with dim 3. Estimator expected <= 2."
     ]
    }
   ],
   "source": [
    "y_pred_test_lstm = model_lstm.predict(X_tst_t)\n",
    "y_train_pred_lstm = model_lstm.predict(X_tr_t)\n",
    "print(\"The R2 score on the Train set is:\\t{:0.3f}\".format(r2_score(y_train, y_train_pred_lstm)))\n",
    "r2_train = r2_score(y_train, y_train_pred_lstm)\n",
    "\n",
    "print(\"The R2 score on the Test set is:\\t{:0.3f}\".format(r2_score(y_test, y_pred_test_lstm)))\n",
    "r2_test = r2_score(y_test, y_pred_test_lstm)"
   ]
  },
  {
   "cell_type": "code",
   "execution_count": null,
   "id": "06a5813e",
   "metadata": {},
   "outputs": [],
   "source": [
    "score_lstm= model_lstm.evaluate(X_tst_t, y_test, batch_size=1)"
   ]
  },
  {
   "cell_type": "code",
   "execution_count": null,
   "id": "2bb18813",
   "metadata": {},
   "outputs": [],
   "source": [
    "print('LSTM: %f'%score_lstm)"
   ]
  },
  {
   "cell_type": "code",
   "execution_count": null,
   "id": "25ebe04e",
   "metadata": {},
   "outputs": [],
   "source": [
    "y_pred_test_LSTM = model_lstm.predict(X_tst_t)"
   ]
  },
  {
   "cell_type": "markdown",
   "id": "e18cd3c7",
   "metadata": {},
   "source": [
    "# Plotting the predictions"
   ]
  },
  {
   "cell_type": "code",
   "execution_count": null,
   "id": "ab545906",
   "metadata": {},
   "outputs": [],
   "source": [
    "plt.plot(y_test, label='True')\n",
    "plt.plot(y_pred_test_LSTM, label='LSTM')\n",
    "plt.title(\"LSTM's_Prediction\")\n",
    "plt.xlabel('Observation')\n",
    "plt.ylabel('INR_Scaled')\n",
    "plt.legend()\n",
    "plt.show()"
   ]
  },
  {
   "cell_type": "code",
   "execution_count": null,
   "id": "421833fd",
   "metadata": {},
   "outputs": [],
   "source": [
    "conda install h5py"
   ]
  },
  {
   "cell_type": "code",
   "execution_count": null,
   "id": "d26537ae",
   "metadata": {},
   "outputs": [],
   "source": [
    "model_json = model_lstm.to_json()\n",
    "with open(\"model.json\", \"w\") as json_file:\n",
    "    json_file.write(model_json)\n",
    "# serialize weights to HDF5\n",
    "model_lstm.save_weights(\"model.h5\")\n",
    "print(\"Saved model to disk\")"
   ]
  },
  {
   "cell_type": "code",
   "execution_count": null,
   "id": "7f363bd1",
   "metadata": {},
   "outputs": [],
   "source": [
    "from tensorflow.keras.models import model_from_json"
   ]
  },
  {
   "cell_type": "code",
   "execution_count": null,
   "id": "211e4ebc",
   "metadata": {},
   "outputs": [],
   "source": [
    "json_file = open('model.json', 'r')\n",
    "loaded_model_json = json_file.read()\n",
    "#json_file.close()\n",
    "loaded_model = model_from_json(loaded_model_json)\n",
    "# load weights into new model\n",
    "loaded_model.load_weights(\"model.h5\")\n",
    "print(\"Loaded model from disk\")"
   ]
  },
  {
   "cell_type": "code",
   "execution_count": null,
   "id": "dfb413bb",
   "metadata": {},
   "outputs": [],
   "source": [
    "loaded_model.compile(loss='mean_squared_error', optimizer='adam')\n",
    "score = loaded_model.evaluate(X_test, y_test, verbose=1)\n",
    "print(\"%s: %.2f%%\" % (loaded_model.metrics_names[1], score[1]*100))\n"
   ]
  },
  {
   "cell_type": "code",
   "execution_count": null,
   "id": "2b220bc2",
   "metadata": {},
   "outputs": [],
   "source": []
  }
 ],
 "metadata": {
  "kernelspec": {
   "display_name": "Python 3",
   "language": "python",
   "name": "python3"
  },
  "language_info": {
   "codemirror_mode": {
    "name": "ipython",
    "version": 3
   },
   "file_extension": ".py",
   "mimetype": "text/x-python",
   "name": "python",
   "nbconvert_exporter": "python",
   "pygments_lexer": "ipython3",
   "version": "3.8.8"
  }
 },
 "nbformat": 4,
 "nbformat_minor": 5
}
